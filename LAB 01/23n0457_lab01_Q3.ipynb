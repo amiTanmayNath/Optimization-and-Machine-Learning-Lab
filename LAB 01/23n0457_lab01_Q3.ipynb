{
  "nbformat": 4,
  "nbformat_minor": 0,
  "metadata": {
    "colab": {
      "provenance": []
    },
    "kernelspec": {
      "name": "python3",
      "display_name": "Python 3"
    },
    "language_info": {
      "name": "python"
    }
  },
  "cells": [
    {
      "cell_type": "code",
      "execution_count": null,
      "metadata": {
        "id": "Vu7uLD80zPn0"
      },
      "outputs": [],
      "source": [
        "def gradient_descent(x1,x2,tau):\n",
        "  while ((-2*(0.7+1-x1) - 200*(x2-x1**2)*2*x1)**2 + (200*(x2-x1**2))**2)**0.5 > tau:\n",
        "    x1 = x1 - 0.001*(-2*(0.7+1-x1) - 200*(x2-x1**2)*2*x1)\n",
        "    x2 = x2 - 0.001*(200*(x2-x1**2))\n",
        "  return (1.7-x1)**2 + 60*(x2-x1**2)**2\n",
        "  print(x1,x2)"
      ]
    },
    {
      "cell_type": "code",
      "source": [
        "for p in range(1,8):\n",
        "  print(f\"The minimum value of the function using grad_ descent for p={p} is {gradient_descent(-1.5,1.5,10**p)}\")"
      ],
      "metadata": {
        "colab": {
          "base_uri": "https://localhost:8080/"
        },
        "id": "3sFsZakR3F87",
        "outputId": "be527478-d8fa-4707-9f69-6c40aa579fa3"
      },
      "execution_count": null,
      "outputs": [
        {
          "output_type": "stream",
          "name": "stdout",
          "text": [
            "The minimum value of the function using grad_ descent for p=1 is 8.318453068784327\n",
            "The minimum value of the function using grad_ descent for p=2 is 8.318453068784327\n",
            "The minimum value of the function using grad_ descent for p=3 is 43.99\n",
            "The minimum value of the function using grad_ descent for p=4 is 43.99\n",
            "The minimum value of the function using grad_ descent for p=5 is 43.99\n",
            "The minimum value of the function using grad_ descent for p=6 is 43.99\n",
            "The minimum value of the function using grad_ descent for p=7 is 43.99\n"
          ]
        }
      ]
    },
    {
      "cell_type": "code",
      "source": [
        "import numpy as np\n",
        "import matplotlib.pyplot as plt\n",
        "from matplotlib import ticker, cm"
      ],
      "metadata": {
        "id": "X6ZHsINE-Lip"
      },
      "execution_count": null,
      "outputs": []
    },
    {
      "cell_type": "code",
      "source": [
        "def function(x1,x2):\n",
        "  return (1.7-x1)**2 + 60*(x2-x1**2)**2\n",
        "\n",
        "x = np.linspace(-4,4,1000)\n",
        "y = np.linspace(-4,4,1000)\n",
        "\n",
        "X,Y = np.meshgrid(x,y)\n",
        "\n",
        "Z = function(X,Y)\n",
        "x1=-1.5\n",
        "x2 = 1.5\n",
        "tau = 1\n",
        "while ((-2*(0.7+1-x1) - 200*(x2-x1**2)*2*x1)**2 + (200*(x2-x1**2))**2)**0.5 > tau:\n",
        "    x1 = x1 - 0.001*(-2*(0.7+1-x1) - 200*(x2-x1**2)*2*x1)\n",
        "    x2 = x2 - 0.001*(200*(x2-x1**2))\n",
        "    plt.plot([x1],[x2],markersize=2,color=\"red\",marker=\"^\")\n",
        "plt.contourf(X,Y,Z,locator = ticker.LogLocator())\n",
        "plt.show()"
      ],
      "metadata": {
        "colab": {
          "base_uri": "https://localhost:8080/",
          "height": 435
        },
        "id": "Vy0aI7oc73yM",
        "outputId": "21f74ca8-3672-4647-f3e6-3a2e4499fe25"
      },
      "execution_count": 45,
      "outputs": [
        {
          "output_type": "display_data",
          "data": {
            "text/plain": [
              "<Figure size 640x480 with 1 Axes>"
            ],
            "image/png": "[encoded data removed]"
          },
          "metadata": {}
        }
      ]
    },
    {
      "cell_type": "markdown",
      "source": [],
      "metadata": {
        "id": "HCwbMWrAAX3s"
      }
    }
  ]
}