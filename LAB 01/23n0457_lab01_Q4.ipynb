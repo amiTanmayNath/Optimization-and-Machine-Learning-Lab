{
  "nbformat": 4,
  "nbformat_minor": 0,
  "metadata": {
    "colab": {
      "provenance": []
    },
    "kernelspec": {
      "name": "python3",
      "display_name": "Python 3"
    },
    "language_info": {
      "name": "python"
    }
  },
  "cells": [
    {
      "cell_type": "code",
      "execution_count": 2,
      "metadata": {
        "id": "T4PKj388Ib9V"
      },
      "outputs": [],
      "source": [
        "import numpy as np\n",
        "import matplotlib.pyplot as plt\n"
      ]
    },
    {
      "cell_type": "code",
      "source": [
        "def f(x1,x2):\n",
        "  return (2-x1)**2 + 80*(x2-x1**2)**2"
      ],
      "metadata": {
        "id": "zX1e1iMOIhxH"
      },
      "execution_count": 1,
      "outputs": []
    },
    {
      "cell_type": "code",
      "source": [
        "def grad(x1,x2):\n",
        "  f_x1 = -2*(2-x1) - 4*80*x1*(x2-x1**2)\n",
        "  f_x2 = 2*80*(x2-x1**2)\n",
        "  return np.array([f_x1,f_x2])\n",
        "\n",
        "def hessian_f(x1,x2):\n",
        "    f_x1x1 = 2 - 4 * 80 * (x2 - x1**2) + 8 * 80 * x1**2\n",
        "    f_x2x2 = 2 * 80\n",
        "    return np.array([[f_x1x1, -4 * 80 * x1], [-4 * 80 * x1, 2 * 80]])\n"
      ],
      "metadata": {
        "id": "TEnwFMnwJixR"
      },
      "execution_count": 3,
      "outputs": []
    }
  ]
}