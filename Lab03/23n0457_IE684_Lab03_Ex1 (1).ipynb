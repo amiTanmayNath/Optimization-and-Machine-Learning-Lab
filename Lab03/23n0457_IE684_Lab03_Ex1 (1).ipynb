{
  "nbformat": 4,
  "nbformat_minor": 0,
  "metadata": {
    "colab": {
      "provenance": []
    },
    "kernelspec": {
      "name": "python3",
      "display_name": "Python 3"
    }
  },
  "cells": [
    {
      "cell_type": "markdown",
      "metadata": {
        "id": "nVE0Xoa0Q5wE"
      },
      "source": [
        "$\\Large\\textbf{Lab 3.}$ $\\large\\textbf{Exercise 1.}$\n",
        "\n"
      ]
    },
    {
      "cell_type": "markdown",
      "metadata": {
        "id": "b-Meohokl4xP"
      },
      "source": [
        "Consider the problem $\\min_{\\mathbf{x}} f(\\mathbf{x}) = 1600x_2^2 + 4x_1 x_2 +  x_1^2$."
      ]
    },
    {
      "cell_type": "markdown",
      "metadata": {
        "id": "ZvWjvAgnXxS3"
      },
      "source": [
        "Note that the function $f(\\mathbf{x})$ is twice continuously differentiable. First let us investigate the Hessian $\\nabla^2 f(\\mathbf{x})$ of the function.\n",
        "\n",
        "Note that the Hessian $\\nabla^2 f(\\mathbf{x})$ of the function $f(\\mathbf{x})$ is positive definite.\n",
        "\n",
        "Due to the positive definite nature of the Hessian, we shall find the condition number of the Hessian given by $\\kappa\\left (\\nabla^2 f(\\mathbf{x}) \\right ) = \\frac{\\lambda_{\\max} \\left (\\nabla^2 f(\\mathbf{x}) \\right )}{\\lambda_{\\min} \\left (\\nabla^2 f(\\mathbf{x}) \\right )}$, where $\\lambda_{\\max}(\\mathbf{A})$ denotes the maximum eigen value of matrix $\\mathbf{A}$ and $\\lambda_{\\min}(\\mathbf{A})$ denotes the minimum eigen value of matrix $\\mathbf{A}$.  \n",
        "\n",
        "\n"
      ]
    },
    {
      "cell_type": "code",
      "metadata": {
        "id": "72qwiJ0CDtOX"
      },
      "source": [
        "import numpy as np\n",
        "\n",
        "def evalh(x):\n",
        "  assert type(x) is np.ndarray\n",
        "  assert len(x) == 2\n",
        "  H = [[2,4],[4,3200]]\n",
        "  return H\n",
        "\n",
        "def find_condition_number(A):\n",
        "  assert type(A) is np.ndarray\n",
        "  assert A.shape[0] == A.shape[1]\n",
        "  ev,evs = np.linalg.eig(A)\n",
        "  return max(ev)/min(ev)"
      ],
      "execution_count": null,
      "outputs": []
    },
    {
      "cell_type": "markdown",
      "metadata": {
        "id": "g7ivDCuJRP9b"
      },
      "source": [
        "The condition number of the Hessian plays a major role in the progress of the iterates of gradient descent towards the optimal solution point. Typically a large value of the condition number indicates that the problem is $\\textbf{ill-conditioned}$ and hence leads to slow progress of the iterates towards the optimal solution point. Now we shall discuss a method which would help in better $\\textbf{conditioning}$ of the problem and hence would help in speeding up the progress of the iterates towards the optimal solution point.\n",
        "\n",
        "Let us first illustrate an equivalent transformation of the problem $\\min_{\\mathbf{x} \\in {\\mathbb{R}}^n} f(\\mathbf{x})$. Consider the transformation $\\mathbf{x}=\\mathbf{My}$ where $\\mathbf{M}\\in {\\mathbb{R}}^{n \\times n}$ is an invertible matrix and $\\mathbf{y} \\in {\\mathbb{R}}^n$ and consider the equivalent problem $\\min_{\\mathbf{y} \\in {\\mathbb{R}}^n} g(\\mathbf{y}) \\equiv \\min_{\\mathbf{y} \\in {\\mathbb{R}}^n} f(\\mathbf{My})$.\n",
        "\n",
        "$\\textbf{Check:}$ Why are the two problems $\\min_{\\mathbf{x} \\in {\\mathbb{R}}^n} f(\\mathbf{x})$ and $\\min_{\\mathbf{y} \\in {\\mathbb{R}}^n} g(\\mathbf{y})$  equivalent?\n",
        "\n",
        "Note that the gradient $\\nabla_{\\mathbf{y}} g(\\mathbf{y}) = \\mathbf{M}^\\top \\nabla_{\\mathbf{x}} f(\\mathbf{x})$ and the Hessian is $\\nabla^2_{\\mathbf{y}} g(\\mathbf{y}) = \\mathbf{M}^\\top \\nabla^2_{\\mathbf{x}} f(\\mathbf{x}) \\mathbf{M}$.\n",
        "\n",
        "Hence the gradient descent update to solve $\\min_{\\mathbf{y} \\in {\\mathbb{R}}^n} g(\\mathbf{y})$ becomes:\n",
        "\n",
        "\n",
        "\\begin{align}\n",
        "{\\mathbf{y}}^{k+1} &= {\\mathbf{y}}^{k} - \\eta \\nabla_{\\mathbf{y}} g({\\mathbf{y}}^{k}) \\\\\n",
        "\\end{align}\n",
        "\n",
        "Pre-multiplying by $\\mathbf{M}$, we have:\n",
        "\\begin{align}\n",
        "{\\mathbf{M}\\mathbf{y}}^{k+1} &= {\\mathbf{M}\\mathbf{y}}^{k} -  \\eta \\mathbf{M} \\nabla_{\\mathbf{y}} g({\\mathbf{y}}^{k})  \\\\\n",
        "\\implies \\mathbf{x}^{k+1} &= \\mathbf{x}^{k} - \\eta \\mathbf{MM}^\\top \\nabla_{\\mathbf{x}} f({\\mathbf{x}}^{k})\n",
        "\\end{align}\n",
        "\n",
        "\n",
        "Letting $\\mathbf{D} = \\mathbf{MM}^\\top$, we see that the update is of the form:\n",
        "\\begin{align}\n",
        "\\mathbf{x}^{k+1} &= \\mathbf{x}^{k} - \\eta \\mathbf{D} \\nabla f({\\mathbf{x}}^{k})\n",
        "\\end{align}\n",
        "\n",
        "Note that the matrix $\\mathbf{D}$ is symmetric and positive definite and hence can be written as $\\mathbf{D} = \\mathbf{B}^2$, where $\\mathbf{B}$ is also symmetric and positive definite. Denoting $\\mathbf{B}= \\mathbf{D}^{\\frac{1}{2}}$, we see that a useful choice for the matrix $\\mathbf{M}$ is $\\mathbf{M} = \\mathbf{B} = \\mathbf{D}^{\\frac{1}{2}}$.\n",
        "\n",
        "The matrix $\\mathbf{D}$ is called a $\\textbf{scaling}$ matrix and helps in scaling the Hessian. We will consider $\\mathbf{D}$ to be a diagonal matrix. Thus it would be useful to find a suitable candidate of the scaling matrix at each iteration which could help in significant progress of the iterates towards the optimal solution.\n",
        "\n",
        "\n"
      ]
    },
    {
      "cell_type": "markdown",
      "metadata": {
        "id": "ZgHGXcTYNXuw"
      },
      "source": [
        "This discussion leads to the following algorithm:\n",
        "\\begin{align}\n",
        "& \\textbf{Input:} \\text{ Starting point $x^0$, Stopping tolerance $\\tau$}  \\\\\n",
        "& \\textbf{Initialize } k=0 \\\\\n",
        "& \\mathbf{p}^k =-\\nabla f(\\mathbf{x}^k) \\\\\n",
        "&\\textbf{While } \\| \\mathbf{p}^k \\|_2 > \\tau \\text{ do:}  \\\\   \n",
        "&\\quad \\quad \\text{ Choose a suitable scaling matrix }\\mathbf{D}^k. \\\\\n",
        "&\\quad \\quad \\eta^k = \\arg\\min_{\\eta\\geq 0} f(\\mathbf{x}^k + \\eta  \\mathbf{D}^k \\mathbf{p}^k) = \\arg\\min_{\\eta\\geq 0} f(\\mathbf{x}^k - \\eta  \\mathbf{D}^k \\nabla f(\\mathbf{x}^k)) \\\\\n",
        "&\\quad \\quad \\mathbf{x}^{k+1} = \\mathbf{x}^k + \\eta^k \\mathbf{D}^k \\mathbf{p}^k = \\mathbf{x}^k - \\eta^k  \\mathbf{D}^k \\nabla f(\\mathbf{x}^k)  \\\\\n",
        "&\\quad \\quad k = {k+1} \\\\\n",
        "&\\textbf{End While} \\\\\n",
        "&\\textbf{Output: } \\mathbf{x}^k\n",
        "\\end{align}"
      ]
    },
    {
      "cell_type": "markdown",
      "metadata": {
        "id": "3XvbzQ5LeJ_N"
      },
      "source": [
        "Note that the update step in the modified gradient descent scheme uses a scaled gradient. Thus it becomes important to set up some criteria for choosing the $\\mathbf{D}^k$ matrix in every iteration. In this exercise, we will assume $\\mathbf{D}^k$ to be a diagonal matrix. The following questions will help in designing a suitable $\\mathbf{D}^k$."
      ]
    },
    {
      "cell_type": "markdown",
      "source": [
        "Condition number of matrix $\\mathbf{Q}$ needs to be analyzed in new gradient scheme with scaling  with $\\mathbf{D}^k$ \\\\\n",
        "\n",
        "$\\mathbf{Q}$  = $(\\mathbf{D}^k)^{\\frac{1}{2}} \\mathbf{H}^k (\\mathbf{D}^k)^{\\frac{1}{2}}$\n",
        "\n",
        "Where, $\\mathbf{H}^k = (\\nabla^2f(\\mathbf{x})) $ is the hessian of a function at each iteration.\n",
        "\n",
        "$\\mathbf{D}^k$ is shown in the question 5 below.\n",
        "\n",
        "Condition Number of matrix $\\mathbf{Q}$ in the Gradient Descent Scheme has reduced to nearly $1$ due to such choice of matrix $\\mathbf{Q}$ so that our gradient descent  algorithm with scaling becomes more accurate and fast."
      ],
      "metadata": {
        "id": "6mE4Muf7EkoB"
      }
    },
    {
      "cell_type": "markdown",
      "metadata": {
        "id": "qrbWd2XigB2N"
      },
      "source": [
        "\n",
        " Based on the matrix $\\mathbf{Q}$, can you come up with a useful choice for $\\mathbf{D}^k$ (assuming $\\mathbf{D}^k$ to be diagonal)? \\\\\n",
        "#Answer:\n",
        "Diagonal approximation to the Hessian matrix $\\nabla^2f( \\mathbf{x})$, i.e., the diagonal matrix $\\mathbf{D}^k$ that has the inverse second partial derivatives $\\Big(\\frac{\\partial^2f(\\mathbf{x_k})}{(\\partial x_i)^2}\\Big)^{-1}$ along the diagonal. This improves the performance of the gradient method dramatically, by providing automatic scaling of the units in which the components $x_i$ of $\\mathbf{x}$ are measured. Because of such choice of $\\mathbf{D}^k$, the condition number of $\\mathbf{Q}$ is improving and becoming so close to $1$ so that our gradient descent scheme is converging so quickly. Here, product with inverse of diagonal elements of hessian matrix with hessian matrix is causing the improvements in $\\mathbf{Q}$ by becoming so close to condition number of identity matrix. This is so helpful in fasterness of the algorithm.\n",
        "\n",
        "$\\therefore \\mathbf{D^k} =\n",
        "\\begin{bmatrix}\n",
        "  \\frac{1}{2} & 0 \\\\ 0 & \\frac{1}{3200}\n",
        "\\end{bmatrix}$"
      ]
    },
    {
      "cell_type": "code",
      "metadata": {
        "id": "KJq7tIgIRroP"
      },
      "source": [
        "def compute_D_k(x):\n",
        "  assert type(x) is np.ndarray\n",
        "  assert len(x) == 2\n",
        "  return np.array([[1/2,0],[0,1/3200]])\n"
      ],
      "execution_count": null,
      "outputs": []
    },
    {
      "cell_type": "code",
      "metadata": {
        "id": "GZjX2IwOR8_X"
      },
      "source": [
        "def evalf(x):\n",
        "  assert type(x) is np.ndarray and len(x) == 2\n",
        "  return 1600*x[1]**2 + 4*x[0]*x[1] + x[0]**2"
      ],
      "execution_count": null,
      "outputs": []
    },
    {
      "cell_type": "code",
      "metadata": {
        "id": "6klpwtDra_I8"
      },
      "source": [
        "def evalg(x):\n",
        "  assert type(x) is np.ndarray and len(x) == 2\n",
        "  return np.array([(2*x[0]+4*x[1]),(4*x[0]+3200*x[1])])\n"
      ],
      "execution_count": null,
      "outputs": []
    },
    {
      "cell_type": "code",
      "metadata": {
        "id": "f3blM08V0HOl"
      },
      "source": [
        "def compute_steplength_exact(gradf, A):\n",
        "  assert type(gradf) is np.ndarray and len(gradf) == 2\n",
        "  assert type(A) is np.ndarray and A.shape[0] == 2 and  A.shape[1] == 2\n",
        "  step_length = np.dot(gradf,gradf)/np.dot(gradf,np.matmul(2*A,gradf))\n",
        "  return step_length\n"
      ],
      "execution_count": null,
      "outputs": []
    },
    {
      "cell_type": "code",
      "metadata": {
        "id": "PGunDYy6Q21S"
      },
      "source": [
        "def compute_steplength_backtracking(x, gradf, alpha_start, rho, gamma):\n",
        "  assert type(x) is np.ndarray and len(gradf) == 2\n",
        "  assert type(gradf) is np.ndarray and len(gradf) == 2\n",
        "  assert type(alpha_start) is float and alpha_start>=0.\n",
        "  assert type(rho) is float and rho>=0.\n",
        "  assert type(gamma) is float and gamma>=0.\n",
        "  alpha = alpha_start\n",
        "  p=-evalg(x)\n",
        "  while evalf(x+alpha*p)>evalf(x)+gamma*alpha*np.dot(evalg(x),p):\n",
        "    alpha = rho*alpha\n",
        "\n",
        "  return alpha"
      ],
      "execution_count": null,
      "outputs": []
    },
    {
      "cell_type": "code",
      "metadata": {
        "id": "wqjdHM3eaHYf"
      },
      "source": [
        "def compute_steplength_backtracking_scaled_direction(x, gradf, direction, alpha_start, rho, gamma):\n",
        "  assert type(x) is np.ndarray and len(gradf) == 2\n",
        "  assert type(gradf) is np.ndarray and len(gradf) == 2\n",
        "  assert type(direction) is np.ndarray and len(direction) == 2\n",
        "  assert type(alpha_start) is float and alpha_start>=0.\n",
        "  assert type(rho) is float and rho>=0.\n",
        "  assert type(gamma) is float and gamma>=0.\n",
        "  p=-gradf\n",
        "  alpha=alpha_start\n",
        "  D_k=compute_D_k(x)\n",
        "\n",
        "  while evalf(x+alpha*np.matmul(D_k,p))>evalf(x)+gamma*alpha*np.matmul(np.matrix.transpose(gradf),np.matmul(D_k,p)):\n",
        "    alpha = rho*alpha\n",
        "\n",
        "  return alpha"
      ],
      "execution_count": null,
      "outputs": []
    },
    {
      "cell_type": "code",
      "metadata": {
        "id": "GvLRu5s635ph"
      },
      "source": [
        "EXACT_LINE_SEARCH = 1\n",
        "BACKTRACKING_LINE_SEARCH = 2\n",
        "CONSTANT_STEP_LENGTH = 3"
      ],
      "execution_count": null,
      "outputs": []
    },
    {
      "cell_type": "code",
      "metadata": {
        "id": "kdYW5nldqZU-"
      },
      "source": [
        "def find_minimizer_gd(start_x, tol, line_search_type,*args):\n",
        "\n",
        "  assert type(start_x) is np.ndarray and len(start_x) == 2\n",
        "  assert type(tol) is float and tol>=0\n",
        "  A = np.array([[2, 4],[4,3200]])\n",
        "  x = start_x\n",
        "  g_x = evalg(x)\n",
        "  if(line_search_type == BACKTRACKING_LINE_SEARCH):\n",
        "    alpha_start = args[0]\n",
        "    rho = args[1]\n",
        "    gamma = args[2]\n",
        "\n",
        "  k = 0\n",
        "\n",
        "  while (np.linalg.norm(g_x) > tol):\n",
        "    if line_search_type == EXACT_LINE_SEARCH:\n",
        "      step_length = compute_steplength_exact(g_x, A)\n",
        "\n",
        "    elif line_search_type == BACKTRACKING_LINE_SEARCH:\n",
        "      step_length = compute_steplength_backtracking(x,g_x, alpha_start,rho, gamma)\n",
        "\n",
        "    elif line_search_type == CONSTANT_STEP_LENGTH:\n",
        "      step_length = 0.1\n",
        "\n",
        "    else:\n",
        "      raise ValueError('Line search type unknown. Please check!')\n",
        "\n",
        "    x = np.subtract(x, np.multiply(step_length,g_x))\n",
        "    k += 1\n",
        "    g_x = evalg(x)\n",
        "\n",
        "\n",
        "  return x , k , evalf(x)\n"
      ],
      "execution_count": null,
      "outputs": []
    },
    {
      "cell_type": "code",
      "metadata": {
        "id": "3SCJdqivdpxx"
      },
      "source": [
        "def find_minimizer_gdscaling(start_x, tol, line_search_type,*args):\n",
        "\n",
        "  assert type(start_x) is np.ndarray and len(start_x) == 2\n",
        "  assert type(tol) is float and tol>=0\n",
        "  A = np.array([[2, 4],[4,3200]])\n",
        "  x = start_x\n",
        "  g_x = evalg(x)\n",
        "  D_k=compute_D_k(x)\n",
        "\n",
        "  if(line_search_type == BACKTRACKING_LINE_SEARCH):\n",
        "    alpha_start = args[0]\n",
        "    rho = args[1]\n",
        "    gamma = args[2]\n",
        "\n",
        "  k = 0\n",
        "\n",
        "  while (np.linalg.norm(g_x) > tol):\n",
        "    if line_search_type == EXACT_LINE_SEARCH:\n",
        "      step_length = compute_steplength_exact(g_x, A)\n",
        "\n",
        "    elif line_search_type == BACKTRACKING_LINE_SEARCH:\n",
        "      step_length = compute_steplength_backtracking(x,g_x, alpha_start,rho, gamma)\n",
        "\n",
        "    elif line_search_type == CONSTANT_STEP_LENGTH:\n",
        "      step_length = 0.1\n",
        "    else:\n",
        "      raise ValueError('Line search type unknown. Please check!')\n",
        "\n",
        "    x = np.subtract(x, np.multiply(step_length,np.matmul(D_k,g_x)))\n",
        "    k += 1\n",
        "    g_x = evalg(x)\n",
        "\n",
        "  return x , k , evalf(x)\n"
      ],
      "execution_count": null,
      "outputs": []
    },
    {
      "cell_type": "code",
      "metadata": {
        "id": "3hoak3jnHkXd"
      },
      "source": [
        "my_start_x = np.array([1.,4000.])\n",
        "my_tol= 1e-12"
      ],
      "execution_count": null,
      "outputs": []
    },
    {
      "cell_type": "markdown",
      "source": [
        "Observation : \\\\\n",
        "Number of iterations for Gradient Descent with backtracking line search with scaling are very much as compared to number of iterations without scaling.And we dont see any major change effect on number of iterations w.r.t. change in value of alpha."
      ],
      "metadata": {
        "id": "cx634_GPA7XY"
      }
    },
    {
      "cell_type": "code",
      "source": [
        "rho_values=[0.9,0.8,0.75,0.6,0.5,0.4,0.25,0.1,0.01]\n",
        "alpha_start=1.0\n",
        "gamma=0.5\n",
        "obj_function=[]\n",
        "final_minimizer=[]\n",
        "number_of_iterations=[]\n",
        "print(\"For Gradient Descent with backtracking line search:\")\n",
        "for rho in rho_values:\n",
        "  print(\"for rho = \",rho)\n",
        "  optimizer_bls,k_bls,min_value_bls=find_minimizer_gd(my_start_x, my_tol, BACKTRACKING_LINE_SEARCH,alpha_start,rho,gamma)\n",
        "  print(\"   Minimizer Value :\",optimizer_bls,\"   Number of iterations :\",k_bls,\"   Minimum value : \",min_value_bls)\n",
        "  number_of_iterations.append(k_bls)\n",
        "  obj_function.append(min_value_bls)\n",
        "  final_minimizer.append(optimizer_bls)"
      ],
      "metadata": {
        "colab": {
          "base_uri": "https://localhost:8080/"
        },
        "id": "I0Y9iaSBumb1",
        "outputId": "326a05e3-586d-4208-a523-432a9d612496"
      },
      "execution_count": null,
      "outputs": [
        {
          "output_type": "stream",
          "name": "stdout",
          "text": [
            "For Gradient Descent with backtracking line search:\n",
            "for rho =  0.9\n",
            "   Minimizer Value : [-4.86897154e-13  5.56578299e-16]    Number of iterations : 3583    Minimum value :  2.364805000795663e-25\n",
            "for rho =  0.8\n",
            "   Minimizer Value : [-4.79006925e-13  5.77859847e-16]    Number of iterations : 1331    Minimum value :  2.2887471356620955e-25\n",
            "for rho =  0.75\n",
            "   Minimizer Value : [-4.12345553e-13  4.98693146e-16]    Number of iterations : 538    Minimum value :  1.6960423093180598e-25\n",
            "for rho =  0.6\n",
            "   Minimizer Value : [-4.86809153e-13  6.52330287e-16]    Number of iterations : 5615    Minimum value :  2.363937657228955e-25\n",
            "for rho =  0.5\n",
            "   Minimizer Value : [-4.77038750e-13  6.86254384e-16]    Number of iterations : 16981    Minimum value :  2.2701000104598094e-25\n",
            "for rho =  0.4\n",
            "   Minimizer Value : [-4.92016016e-13  6.63916164e-16]    Number of iterations : 5961    Minimum value :  2.414783857100508e-25\n",
            "for rho =  0.25\n",
            "   Minimizer Value : [-4.78952422e-13  5.09080727e-16]    Number of iterations : 15287    Minimum value :  2.2883478137396542e-25\n",
            "for rho =  0.1\n",
            "   Minimizer Value : [-4.44250589e-13  6.83670379e-16]    Number of iterations : 37849    Minimum value :  1.9689155054436297e-25\n",
            "for rho =  0.01\n",
            "   Minimizer Value : [-4.87654555e-13  5.39105672e-16]    Number of iterations : 13538    Minimum value :  2.3722039118811697e-25\n"
          ]
        }
      ]
    },
    {
      "cell_type": "code",
      "source": [
        "obj_function_scaling=[]\n",
        "final_minimizer_scaling=[]\n",
        "number_of_iterations_scaling=[]\n",
        "print(\"For Gradient Descent with backtracking line search with scaling:\")\n",
        "for rho in rho_values:\n",
        "  print(\"for rho = \",rho)\n",
        "  opt_bls_scaling,k_scaling,fun_scaling = find_minimizer_gdscaling(my_start_x, my_tol, BACKTRACKING_LINE_SEARCH,alpha_start,rho,gamma)\n",
        "  print(\"   Minimizer Value :\",opt_bls_scaling,\"   Number of iterations :\",k_scaling,\"   Minimum value : \",fun_scaling)\n",
        "  obj_function_scaling.append(fun_scaling)\n",
        "  final_minimizer_scaling.append(opt_bls_scaling)\n",
        "  number_of_iterations_scaling.append(k_scaling)"
      ],
      "metadata": {
        "colab": {
          "base_uri": "https://localhost:8080/"
        },
        "id": "mK4sZ31Q5yJ0",
        "outputId": "3e36cf1b-4188-47e0-e6cd-ae08588d5004"
      },
      "execution_count": null,
      "outputs": [
        {
          "output_type": "stream",
          "name": "stdout",
          "text": [
            "For Gradient Descent with backtracking line search with scaling:\n",
            "for rho =  0.9\n",
            "   Minimizer Value : [-1.28638841e-14  3.28433470e-16]    Number of iterations : 151937    Minimum value :  3.211694635438895e-28\n",
            "for rho =  0.8\n",
            "   Minimizer Value : [-1.28648842e-14  3.28459725e-16]    Number of iterations : 175394    Minimum value :  3.2122012616482217e-28\n",
            "for rho =  0.75\n",
            "   Minimizer Value : [-1.28650411e-14  3.28464095e-16]    Number of iterations : 191237    Minimum value :  3.212283251452544e-28\n",
            "for rho =  0.6\n",
            "   Minimizer Value : [-1.28648002e-14  3.28457203e-16]    Number of iterations : 161406    Minimum value :  3.212155533584296e-28\n",
            "for rho =  0.5\n",
            "   Minimizer Value : [-1.28656639e-14  3.28479932e-16]    Number of iterations : 186512    Minimum value :  3.212593624272809e-28\n",
            "for rho =  0.4\n",
            "   Minimizer Value : [-1.28635904e-14  3.28426577e-16]    Number of iterations : 173702    Minimum value :  3.2115540377287654e-28\n",
            "for rho =  0.25\n",
            "   Minimizer Value : [-1.28656639e-14  3.28479932e-16]    Number of iterations : 186512    Minimum value :  3.212593624272809e-28\n",
            "for rho =  0.1\n",
            "   Minimizer Value : [-1.28653045e-14  3.28473122e-16]    Number of iterations : 455383    Minimum value :  3.2124377987488033e-28\n",
            "for rho =  0.01\n",
            "   Minimizer Value : [-1.28653045e-14  3.28473122e-16]    Number of iterations : 455383    Minimum value :  3.2124377987489244e-28\n"
          ]
        }
      ]
    },
    {
      "cell_type": "code",
      "source": [
        "import matplotlib.pyplot as plt\n",
        "\n",
        "plt.plot(rho_values,number_of_iterations)\n",
        "plt.plot(rho_values,number_of_iterations_scaling)\n",
        "plt.xlabel('Rho Values')\n",
        "plt.ylabel('Number of Iterations')\n",
        "plt.title('Number of Iterations v/s Rho Values plot')\n",
        "plt.legend([\"With Scaling\",\"Without Scaling\"])\n",
        "plt.show()"
      ],
      "metadata": {
        "id": "hzNun45f6Aab",
        "colab": {
          "base_uri": "https://localhost:8080/",
          "height": 472
        },
        "outputId": "d2a34038-5dd0-41a0-9b0f-0e6fa19b2507"
      },
      "execution_count": null,
      "outputs": [
        {
          "output_type": "display_data",
          "data": {
            "text/plain": [
              "<Figure size 640x480 with 1 Axes>"
            ],
            "image/png": "[encoded data removed]"
          },
          "metadata": {}
        }
      ]
    },
    {
      "cell_type": "markdown",
      "source": [
        "Observation : \\\\\n",
        "Number of iterations for Gradient Descent with backtracking line search with scaling are very much as compared to number of iterations without scaling.For Gradient Descnt with backtracking line search With scaling with increase in rho values number of iterations decreases ,initially we can see a very much change in number of iterations from 0.0 to 0.2 and then it decreases minorly."
      ],
      "metadata": {
        "id": "iXZCCdSXCIzF"
      }
    },
    {
      "cell_type": "code",
      "source": [
        "my_start_x = np.array([1, 4000])\n",
        "my_tol = 1e-12\n",
        "BACKTRACKING_LINE_SEARCH = True\n",
        "alpha_start = 1.0\n",
        "gamma = 0.5\n",
        "rho_values = [0.9, 0.8, 0.75, 0.6, 0.5, 0.4, 0.25, 0.1, 0.01]\n",
        "\n",
        "# Lists to store results\n",
        "obj_function_values = []\n",
        "final_minimizer_values = []\n",
        "number_of_iterations_values = []\n",
        "\n",
        "x_vals = np.linspace(-10, 10, 100)\n",
        "y_vals = np.linspace(-5000, 5000, 100)\n",
        "X, Y = np.meshgrid(x_vals, y_vals)\n",
        "Z = obj_function(np.vstack([X.ravel(), Y.ravel()])).reshape(X.shape)\n",
        "\n",
        "plt.figure(figsize=(10, 8))\n",
        "plt.contour(X, Y, Z, levels=np.logspace(0, 5, 35), cmap=\"viridis\")\n",
        "plt.xlabel(\"x1\")\n",
        "plt.ylabel(\"x2\")\n",
        "print(obj_function_values)\n",
        "# Plot optimization trajectory for each rho value\n",
        "for i, rho in enumerate(rho_values):\n",
        "    trajectory_x = [point[0] for point in obj_function_values[i]]\n",
        "    trajectory_y = [point[1] for point in obj_function_values[i]]\n",
        "    plt.plot(trajectory_x, trajectory_y, label=f\"rho={rho}\")\n",
        "\n",
        "plt.scatter(final_minimizer_values[-1][0], final_minimizer_values[-1][1], color=\"red\", marker=\"*\", label=\"Final Minimizer\")\n",
        "\n",
        "plt.legend()\n",
        "plt.title(\"Gradient Descent with Backtracking Line Search: Level Sets and Optimization Trajectory\")\n",
        "plt.show()\n"
      ],
      "metadata": {
        "colab": {
          "base_uri": "https://localhost:8080/",
          "height": 941
        },
        "id": "3W_B9MDJ3At2",
        "outputId": "860d72a0-0e90-415f-eacd-c1bd28706276"
      },
      "execution_count": null,
      "outputs": [
        {
          "output_type": "stream",
          "name": "stdout",
          "text": [
            "[]\n"
          ]
        },
        {
          "output_type": "error",
          "ename": "IndexError",
          "evalue": "list index out of range",
          "traceback": [
            "\u001b[0;31m---------------------------------------------------------------------------\u001b[0m",
            "\u001b[0;31mIndexError\u001b[0m                                Traceback (most recent call last)",
            "\u001b[0;32m<ipython-input-22-264f861b882a>\u001b[0m in \u001b[0;36m<cell line: 40>\u001b[0;34m()\u001b[0m\n\u001b[1;32m     39\u001b[0m \u001b[0;31m# Plot optimization trajectory for each rho value\u001b[0m\u001b[0;34m\u001b[0m\u001b[0;34m\u001b[0m\u001b[0m\n\u001b[1;32m     40\u001b[0m \u001b[0;32mfor\u001b[0m \u001b[0mi\u001b[0m\u001b[0;34m,\u001b[0m \u001b[0mrho\u001b[0m \u001b[0;32min\u001b[0m \u001b[0menumerate\u001b[0m\u001b[0;34m(\u001b[0m\u001b[0mrho_values\u001b[0m\u001b[0;34m)\u001b[0m\u001b[0;34m:\u001b[0m\u001b[0;34m\u001b[0m\u001b[0;34m\u001b[0m\u001b[0m\n\u001b[0;32m---> 41\u001b[0;31m     \u001b[0mtrajectory_x\u001b[0m \u001b[0;34m=\u001b[0m \u001b[0;34m[\u001b[0m\u001b[0mpoint\u001b[0m\u001b[0;34m[\u001b[0m\u001b[0;36m0\u001b[0m\u001b[0;34m]\u001b[0m \u001b[0;32mfor\u001b[0m \u001b[0mpoint\u001b[0m \u001b[0;32min\u001b[0m \u001b[0mobj_function_values\u001b[0m\u001b[0;34m[\u001b[0m\u001b[0mi\u001b[0m\u001b[0;34m]\u001b[0m\u001b[0;34m]\u001b[0m\u001b[0;34m\u001b[0m\u001b[0;34m\u001b[0m\u001b[0m\n\u001b[0m\u001b[1;32m     42\u001b[0m     \u001b[0mtrajectory_y\u001b[0m \u001b[0;34m=\u001b[0m \u001b[0;34m[\u001b[0m\u001b[0mpoint\u001b[0m\u001b[0;34m[\u001b[0m\u001b[0;36m1\u001b[0m\u001b[0;34m]\u001b[0m \u001b[0;32mfor\u001b[0m \u001b[0mpoint\u001b[0m \u001b[0;32min\u001b[0m \u001b[0mobj_function_values\u001b[0m\u001b[0;34m[\u001b[0m\u001b[0mi\u001b[0m\u001b[0;34m]\u001b[0m\u001b[0;34m]\u001b[0m\u001b[0;34m\u001b[0m\u001b[0;34m\u001b[0m\u001b[0m\n\u001b[1;32m     43\u001b[0m     \u001b[0mplt\u001b[0m\u001b[0;34m.\u001b[0m\u001b[0mplot\u001b[0m\u001b[0;34m(\u001b[0m\u001b[0mtrajectory_x\u001b[0m\u001b[0;34m,\u001b[0m \u001b[0mtrajectory_y\u001b[0m\u001b[0;34m,\u001b[0m \u001b[0mlabel\u001b[0m\u001b[0;34m=\u001b[0m\u001b[0;34mf\"rho={rho}\"\u001b[0m\u001b[0;34m)\u001b[0m\u001b[0;34m\u001b[0m\u001b[0;34m\u001b[0m\u001b[0m\n",
            "\u001b[0;31mIndexError\u001b[0m: list index out of range"
          ]
        },
        {
          "output_type": "display_data",
          "data": {
            "text/plain": [
              "<Figure size 1000x800 with 1 Axes>"
            ],
            "image/png": "[encoded data removed]"
          },
          "metadata": {}
        }
      ]
    }
  ]
}