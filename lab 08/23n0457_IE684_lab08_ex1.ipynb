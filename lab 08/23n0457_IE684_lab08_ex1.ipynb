{
  "nbformat": 4,
  "nbformat_minor": 0,
  "metadata": {
    "colab": {
      "provenance": []
    },
    "kernelspec": {
      "name": "python3",
      "display_name": "Python 3"
    },
    "language_info": {
      "name": "python"
    }
  },
  "cells": [
    {
      "cell_type": "code",
      "execution_count": null,
      "metadata": {
        "colab": {
          "base_uri": "https://localhost:8080/"
        },
        "id": "fMJhObWMhmn2",
        "outputId": "cbc4cca1-3eac-4495-a9db-9b4a186f8317"
      },
      "outputs": [
        {
          "output_type": "stream",
          "name": "stdout",
          "text": [
            "(178, 13)\n",
            "(178,)\n"
          ]
        }
      ],
      "source": [
        "from sklearn.datasets import load_wine\n",
        "import numpy as np\n",
        "wine_dataset = load_wine()\n",
        "\n",
        "A =wine_dataset.data\n",
        "\n",
        "print(A.shape)\n",
        "\n",
        "y = wine_dataset.target\n",
        "\n",
        "print(y.shape)"
      ]
    },
    {
      "cell_type": "markdown",
      "source": [
        "#Q.1"
      ],
      "metadata": {
        "id": "u9tnBRgOiqlF"
      }
    },
    {
      "cell_type": "code",
      "source": [
        "print(y)"
      ],
      "metadata": {
        "colab": {
          "base_uri": "https://localhost:8080/"
        },
        "id": "jKm0lAmqipgB",
        "outputId": "667527e7-cdb5-4a6c-9be8-e2070ccc8c2c"
      },
      "execution_count": null,
      "outputs": [
        {
          "output_type": "stream",
          "name": "stdout",
          "text": [
            "[0 0 0 0 0 0 0 0 0 0 0 0 0 0 0 0 0 0 0 0 0 0 0 0 0 0 0 0 0 0 0 0 0 0 0 0 0\n",
            " 0 0 0 0 0 0 0 0 0 0 0 0 0 0 0 0 0 0 0 0 0 0 1 1 1 1 1 1 1 1 1 1 1 1 1 1 1\n",
            " 1 1 1 1 1 1 1 1 1 1 1 1 1 1 1 1 1 1 1 1 1 1 1 1 1 1 1 1 1 1 1 1 1 1 1 1 1\n",
            " 1 1 1 1 1 1 1 1 1 1 1 1 1 1 1 1 1 1 1 2 2 2 2 2 2 2 2 2 2 2 2 2 2 2 2 2 2\n",
            " 2 2 2 2 2 2 2 2 2 2 2 2 2 2 2 2 2 2 2 2 2 2 2 2 2 2 2 2 2 2]\n"
          ]
        }
      ]
    },
    {
      "cell_type": "markdown",
      "source": [
        "**Clearly the class labels are from the set {0,1,2,....c}.**"
      ],
      "metadata": {
        "id": "WJyrLVsniyzT"
      }
    },
    {
      "cell_type": "markdown",
      "source": [
        "#Q.2"
      ],
      "metadata": {
        "id": "AgAzTatyjGc2"
      }
    },
    {
      "cell_type": "code",
      "source": [
        "\n",
        "for x in range(y.shape[0]):\n",
        "  if y[x]==1:\n",
        "    y[x]=1\n",
        "  else:\n",
        "    y[x] = -1\n",
        "\n",
        "print(y)"
      ],
      "metadata": {
        "colab": {
          "base_uri": "https://localhost:8080/"
        },
        "id": "Bpd-CdDXjEvD",
        "outputId": "fcba7207-19d7-4ae6-e9fa-742b033204c1"
      },
      "execution_count": null,
      "outputs": [
        {
          "output_type": "stream",
          "name": "stdout",
          "text": [
            "[-1 -1 -1 -1 -1 -1 -1 -1 -1 -1 -1 -1 -1 -1 -1 -1 -1 -1 -1 -1 -1 -1 -1 -1\n",
            " -1 -1 -1 -1 -1 -1 -1 -1 -1 -1 -1 -1 -1 -1 -1 -1 -1 -1 -1 -1 -1 -1 -1 -1\n",
            " -1 -1 -1 -1 -1 -1 -1 -1 -1 -1 -1  1  1  1  1  1  1  1  1  1  1  1  1  1\n",
            "  1  1  1  1  1  1  1  1  1  1  1  1  1  1  1  1  1  1  1  1  1  1  1  1\n",
            "  1  1  1  1  1  1  1  1  1  1  1  1  1  1  1  1  1  1  1  1  1  1  1  1\n",
            "  1  1  1  1  1  1  1  1  1  1 -1 -1 -1 -1 -1 -1 -1 -1 -1 -1 -1 -1 -1 -1\n",
            " -1 -1 -1 -1 -1 -1 -1 -1 -1 -1 -1 -1 -1 -1 -1 -1 -1 -1 -1 -1 -1 -1 -1 -1\n",
            " -1 -1 -1 -1 -1 -1 -1 -1 -1 -1]\n"
          ]
        }
      ]
    },
    {
      "cell_type": "markdown",
      "source": [
        "#Q.3"
      ],
      "metadata": {
        "id": "cCo5wDp7kE1U"
      }
    },
    {
      "cell_type": "code",
      "source": [
        "print(A)\n",
        "for i in range(A.shape[1]):\n",
        "  A[:,i] = (A[:,i] - np.min(A[:,i]))/(np.max(A[:,i]) - np.min(A[:,i]))\n",
        "print(A)"
      ],
      "metadata": {
        "colab": {
          "base_uri": "https://localhost:8080/"
        },
        "id": "wbWlRIKHkD__",
        "outputId": "de017070-b1c6-4c49-904c-3344187338cb"
      },
      "execution_count": null,
      "outputs": [
        {
          "output_type": "stream",
          "name": "stdout",
          "text": [
            "[[1.423e+01 1.710e+00 2.430e+00 ... 1.040e+00 3.920e+00 1.065e+03]\n",
            " [1.320e+01 1.780e+00 2.140e+00 ... 1.050e+00 3.400e+00 1.050e+03]\n",
            " [1.316e+01 2.360e+00 2.670e+00 ... 1.030e+00 3.170e+00 1.185e+03]\n",
            " ...\n",
            " [1.327e+01 4.280e+00 2.260e+00 ... 5.900e-01 1.560e+00 8.350e+02]\n",
            " [1.317e+01 2.590e+00 2.370e+00 ... 6.000e-01 1.620e+00 8.400e+02]\n",
            " [1.413e+01 4.100e+00 2.740e+00 ... 6.100e-01 1.600e+00 5.600e+02]]\n",
            "[[0.84210526 0.1916996  0.57219251 ... 0.45528455 0.97069597 0.56134094]\n",
            " [0.57105263 0.2055336  0.4171123  ... 0.46341463 0.78021978 0.55064194]\n",
            " [0.56052632 0.3201581  0.70053476 ... 0.44715447 0.6959707  0.64693295]\n",
            " ...\n",
            " [0.58947368 0.69960474 0.48128342 ... 0.08943089 0.10622711 0.39728959]\n",
            " [0.56315789 0.36561265 0.54010695 ... 0.09756098 0.12820513 0.40085592]\n",
            " [0.81578947 0.66403162 0.73796791 ... 0.10569106 0.12087912 0.20114123]]\n"
          ]
        }
      ]
    },
    {
      "cell_type": "markdown",
      "source": [
        "**Used Min-max normalisation technique to do this task**"
      ],
      "metadata": {
        "id": "PiKXm_CSFxgS"
      }
    },
    {
      "cell_type": "markdown",
      "source": [
        "#Q.4"
      ],
      "metadata": {
        "id": "roYXr458lFWy"
      }
    },
    {
      "cell_type": "code",
      "source": [
        "n = A.shape[0]\n",
        "\n",
        "indexarr = np.arange(n) #index array\n",
        "np.random.shuffle(indexarr)\n",
        "\n",
        "train_data = []\n",
        "train_label = []\n",
        "test_data = []\n",
        "test_label = []\n",
        "counter = 1\n",
        "for i in indexarr:\n",
        "  if counter <= int(0.8*n):\n",
        "    train_data.append(list(A[i,:]))\n",
        "    train_label.append(y[i])\n",
        "  else:\n",
        "    test_data.append(list(A[i]))\n",
        "    test_label.append(y[i])\n",
        "  counter = counter + 1\n",
        "train_data = np.array(train_data)\n",
        "train_label = np.array(train_label).reshape(np.array(train_label).shape[0],1)\n",
        "test_data = np.array(test_data)\n",
        "test_label = np.array(test_label).reshape(np.array(test_label).shape[0],1)"
      ],
      "metadata": {
        "id": "JspRuTv7lG77"
      },
      "execution_count": null,
      "outputs": []
    },
    {
      "cell_type": "code",
      "source": [
        "print(len(train_label)/len(y))\n",
        "print(len(test_label)/len(y))\n",
        "print(len(train_data)/len(A))\n",
        "print(len(test_data)/len(A))"
      ],
      "metadata": {
        "colab": {
          "base_uri": "https://localhost:8080/"
        },
        "id": "pJRAiDrJma57",
        "outputId": "145cc487-21e3-4c37-dbf3-71a26c37e07e"
      },
      "execution_count": null,
      "outputs": [
        {
          "output_type": "stream",
          "name": "stdout",
          "text": [
            "0.797752808988764\n",
            "0.20224719101123595\n",
            "0.797752808988764\n",
            "0.20224719101123595\n"
          ]
        }
      ]
    },
    {
      "cell_type": "markdown",
      "source": [
        "#Q.5"
      ],
      "metadata": {
        "id": "l7HldULyxkAY"
      }
    },
    {
      "cell_type": "code",
      "source": [
        "def predict(w,x):\n",
        "  if w.T@x > 0:\n",
        "    return 1\n",
        "  else:\n",
        "    return -1"
      ],
      "metadata": {
        "id": "jIAbLHMimvz1"
      },
      "execution_count": null,
      "outputs": []
    },
    {
      "cell_type": "markdown",
      "source": [
        "#Q.6"
      ],
      "metadata": {
        "id": "HBRnUqtzy3Zm"
      }
    },
    {
      "cell_type": "code",
      "source": [
        "def compute_accuracy(data,labels,model_w):\n",
        "  n=data.shape[0]\n",
        "  c=0\n",
        "  for i in range(n):\n",
        "    if predict(model_w,data[i])==labels[i]:\n",
        "      c+=1\n",
        "  return c*100/n"
      ],
      "metadata": {
        "id": "EzDF1hmGyWwo"
      },
      "execution_count": null,
      "outputs": []
    }
  ]
}