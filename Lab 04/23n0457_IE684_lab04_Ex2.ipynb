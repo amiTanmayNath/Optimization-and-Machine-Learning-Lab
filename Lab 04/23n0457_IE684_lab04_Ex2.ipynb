{
  "cells": [
    {
      "cell_type": "markdown",
      "metadata": {
        "id": "XFFiepyy9FkT"
      },
      "source": [
        "#Part 1\n",
        "\n",
        "# Finding the Minimum Values of \\( q_1(x) \\) and \\( q_2(x) \\)\n",
        "\n",
        "## Minimum Value of \\( q_2(x) \\)\n",
        "Given \\( q_2(x) = 2q_1(x_1) + (2q_2 - 1)x_1 + \\frac{3}{2}q_2^2 - 2q_2 \\), we express it in matrix form as \\( q_2(x) = \\frac{1}{2}x^\\top Ax - b_2^\\top x \\).\n",
        "\n",
        "For \\( q_2(x) \\), we have:\n",
        "- \\( A = \\begin{bmatrix} 4 & 1 \\\\ 1 & 3 \\end{bmatrix} \\)\n",
        "- \\( b_2 = \\begin{bmatrix} 1 \\\\ 2 \\end{bmatrix} \\)\n",
        "\n",
        "To find the minimizer \\( x^* \\), we calculate \\( x^* = A^{-1}b_2 \\), resulting in \\( x^* = \\left[ \\frac{1}{11}, \\frac{6}{11} \\right] \\).\n",
        "\n",
        "Substituting \\( x^* \\) into \\( q_2(x) \\), we determine the minimum value of \\( q_2(x) \\) to be \\( \\frac{57}{121} \\).\n",
        "\n",
        "## Minimum Value of \\( q_1(x) \\)\n",
        "Given \\( q_1(x) = \\frac{1}{2}x^\\top Wx - b_1^\\top x \\), where \\( b_1 = \\begin{bmatrix} 1 \\\\ 0 \\end{bmatrix} \\), we substitute \\( b_1 \\) into \\( q_1(x) \\) to obtain \\( q_1(x) = \\frac{1}{2}x^\\top Wx - x_1 \\).\n",
        "\n",
        "The gradient \\( \\nabla q_1(x) = \\frac{1}{2}(W + W^\\top)x - \\begin{bmatrix} 1 \\\\ 0 \\end{bmatrix} \\), which, when set to zero, leads to \\( (W + W^\\top)x = 2\\begin{bmatrix} 1 \\\\ 0 \\end{bmatrix} \\).\n",
        "\n",
        "Substituting the given \\( W \\) and solving for \\( x^* \\), we find \\( x^* = \\left[ \\frac{2}{t}, -1 \\right] \\).\n",
        "\n",
        "The minimum value of \\( q_1(x) \\) for \\( t \\neq 0 \\) is \\( \\frac{1}{t^2} - \\frac{t}{2} - \\sqrt{t} + 1 \\).\n",
        "\n",
        "# Analysis\n",
        "\n",
        "## Uniqueness of Minimizers\n",
        "Both functions \\( q_1(x) \\) and \\( q_2(x) \\) possess unique minimizers.\n",
        "\n",
        "## Local and Global Minima\n",
        "Both \\( q_1(x) \\) and \\( q_2(x) \\) exhibit convex forms. Hence, their local minima also serve as global minima.\n",
        "\n",
        "## Convexity\n",
        "- \\( q_1(x) \\) may not exhibit convexity due to the nature of \\( W \\), which is generally not symmetric.\n",
        "- \\( q_2(x) \\) demonstrates convexity since \\( A \\) is symmetric and positive definite.\n",
        "\n",
        "These analyses offer clear insights into the minimum values, uniqueness of minimizers, and convexity of \\( q_1(x) \\) and \\( q_2(x) \\).\n"
      ]
    },
    {
      "cell_type": "markdown",
      "metadata": {
        "id": "L6xAspch9-Kc"
      },
      "source": [
        "#part 2"
      ]
    },
    {
      "cell_type": "code",
      "execution_count": 5,
      "metadata": {},
      "outputs": [],
      "source": [
        "import numpy as np\n",
        "import matplotlib.pyplot as plt\n",
        "from numpy.linalg import norm\n",
        "import time"
      ]
    },
    {
      "cell_type": "code",
      "execution_count": 6,
      "metadata": {},
      "outputs": [
        {
          "name": "stdout",
          "output_type": "stream",
          "text": [
            "1707502251.4644086 1707502251.4645755\n"
          ]
        }
      ],
      "source": [
        "s=time.time()\n",
        "for i in range(45):\n",
        "    pass\n",
        "t=time.time()\n",
        "print(s,t)"
      ]
    },
    {
      "cell_type": "code",
      "execution_count": 12,
      "metadata": {
        "colab": {
          "background_save": true
        },
        "id": "f8sCmb5Sc7Qx"
      },
      "outputs": [
        {
          "name": "stderr",
          "output_type": "stream",
          "text": [
            "No artists with labels found to put in legend.  Note that artists whose label start with an underscore are ignored when legend() is called with no argument.\n"
          ]
        },
        {
          "name": "stdout",
          "output_type": "stream",
          "text": [
            "Iterations for Accelerated Gradient Descent: 27693233\n",
            "Iterations for Gradient Descent: 55371021\n"
          ]
        },
        {
          "data": {
            "image/png": "[encoded data removed]",
            "text/plain": [
              "<Figure size 1000x600 with 1 Axes>"
            ]
          },
          "metadata": {},
          "output_type": "display_data"
        }
      ],
      "source": [
        "\n",
        "\n",
        "x_0 = np.array([3, 5])\n",
        "b1 = np.array([1, 0])\n",
        "W = np.array([[0.001, 0.001**0.5],\n",
        "              [0.001**0.5, 1 + 0.001]])\n",
        "\n",
        "def f(x):\n",
        "    return 1/2 * np.matmul(np.matmul(x, W), x.T) - np.matmul(b1, x.T)\n",
        "\n",
        "def gradf(x):\n",
        "    return np.matmul(W, x.T) - b1\n",
        "\n",
        "def pertgradf(x_new, x_old, beta):\n",
        "    return gradf(x_new + beta * (x_new - x_old))\n",
        "\n",
        "alpha_k = 2 / (3 + np.sqrt(9 - 4 * 0.001**2))\n",
        "u_0 = (3 + np.sqrt(9 - 4 * 0.001**2)) / (3 - np.sqrt(9 - 4 * 0.001**2))\n",
        "B_k = (u_0**0.5 - 1) / (u_0**0.5 + 1)\n",
        "\n",
        "def accelerated_gradient_descent(x_init, tau):\n",
        "    x = x_init\n",
        "    grad = gradf(x)\n",
        "    x_neg = x_init\n",
        "    iterations = 0\n",
        "    \n",
        "    while np.linalg.norm(grad) > tau:\n",
        "        iterations += 1\n",
        "        x_neg = x\n",
        "        x_pert = x - alpha_k * pertgradf(x, x_neg, B_k)\n",
        "        x = x_pert + B_k * (x_pert - x_neg)\n",
        "        grad = gradf(x_pert)\n",
        "\n",
        "    return x, iterations\n",
        "\n",
        "# Gradient Descent with the given step size\n",
        "def gradient_descent(x_init, tau):\n",
        "    x = x_init\n",
        "    grad = gradf(x)\n",
        "    iterations = 0\n",
        "    while np.linalg.norm(grad) > tau:\n",
        "        iterations += 1\n",
        "        x = x - alpha_k * grad\n",
        "        grad = gradf(x)\n",
        "    return x, iterations\n",
        "\n",
        "def plot_error_vs_iterations(algorithm, x_init, tau):\n",
        "    x_opt, iterations = algorithm(x_init, tau)\n",
        "    return iterations\n",
        "\n",
        "tau = 1e-8\n",
        "x_init = np.array([3, 5])\n",
        "\n",
        "plt.figure(figsize=(10, 6))\n",
        "\n",
        "iterations_nesterov = plot_error_vs_iterations(accelerated_gradient_descent, x_init, tau)\n",
        "iterations_gradient_descent = plot_error_vs_iterations(gradient_descent, x_init, tau)\n",
        "\n",
        "print('Iterations for Accelerated Gradient Descent:', iterations_nesterov)\n",
        "print('Iterations for Gradient Descent:', iterations_gradient_descent)\n",
        "\n",
        "plt.xlabel('Iterations')\n",
        "plt.ylabel('Log Error of Functional Values')\n",
        "plt.title('Log Error of Functional Values vs. Number of Iterations')\n",
        "plt.legend()\n",
        "plt.grid(True)\n",
        "plt.show()"
      ]
    },
    {
      "cell_type": "code",
      "execution_count": 13,
      "metadata": {
        "id": "uS5qEgNA7saC"
      },
      "outputs": [
        {
          "name": "stdout",
          "output_type": "stream",
          "text": [
            "----------------------------------------------------------------------------------\n",
            "Iteration =  55371021\n",
            "Minimizer =  [1000999.98998494  -31622.7762853 ]\n",
            "Final value =  -500499.9999999405\n",
            "----------------------------------------------------------------------------------\n"
          ]
        }
      ],
      "source": [
        "def q1(x, W, b1):\n",
        "    return 0.5 * np.dot(np.dot(x, W), x) - np.dot(b1, x)\n",
        "\n",
        "def grad_q1(x, W, b1):\n",
        "    return np.dot(W, x) - b1\n",
        "\n",
        "def gradient_descent(x0, alpha, tau, t):\n",
        "    x = np.copy(x0)\n",
        "    W = np.array([[t, np.sqrt(t)], [np.sqrt(t), t + 1]])\n",
        "    b1 = np.array([1., 0.])\n",
        "    k = 0\n",
        "    functional_values = []\n",
        "    while np.linalg.norm(grad_q1(x, W, b1)) > tau:\n",
        "        x = x - alpha * grad_q1(x, W, b1)\n",
        "        k += 1\n",
        "        functional_values.append(q1(x, W, b1))\n",
        "\n",
        "    return k, x, q1(x, W, b1), functional_values\n",
        "\n",
        "tau = 10**(-8)\n",
        "x0 = np.array([3, 5])\n",
        "t = 0.001\n",
        "alpha = 2 / (3 + np.sqrt(9 - 4 * t**2))\n",
        "\n",
        "iteration2, minimizer2, final_value2, function_value2 = gradient_descent(x0, alpha, tau, t)\n",
        "\n",
        "print('----------------------------------------------------------------------------------')\n",
        "print('Iteration = ', iteration2)\n",
        "print('Minimizer = ', minimizer2)\n",
        "print('Final value = ', final_value2)\n",
        "print('----------------------------------------------------------------------------------')\n"
      ]
    },
    {
      "cell_type": "markdown",
      "metadata": {
        "id": "53miM-wK-qa1"
      },
      "source": [
        "# OBSERVATION\n",
        "It is observed that employing the method of accelerated gradient descent results in fewer iterations required to reach the minimum value compared to the normal gradient descent algorithm."
      ]
    },
    {
      "cell_type": "markdown",
      "metadata": {
        "id": "xpA2kmZV-vr_"
      },
      "source": [
        "#part 3"
      ]
    },
    {
      "cell_type": "code",
      "execution_count": 14,
      "metadata": {
        "id": "9XNYpT1Z7Vu2"
      },
      "outputs": [
        {
          "name": "stdout",
          "output_type": "stream",
          "text": [
            "----------------------------------------------------------------------------------\n",
            "Type = Accelerated Gradient Descent\n",
            "Iteration =  18\n",
            "Minimizer =  [0.09090909 0.63636364]\n",
            "Final value =  -0.6818181818181818\n",
            "----------------------------------------------------------------------------------\n"
          ]
        }
      ],
      "source": [
        "def q2(x):\n",
        "    A = np.array([[4, 1], [1, 3]])\n",
        "    b2 = np.array([1, 2])\n",
        "    return 0.5 * x @ A @ x - b2 @ x\n",
        "\n",
        "def grad_q2(x):\n",
        "    A = np.array([[4, 1], [1, 3]])\n",
        "    b2 = np.array([1, 2])\n",
        "    return A @ x - b2\n",
        "\n",
        "def accelerated_gradient_descent(x0, alpha, beta, tolerance):\n",
        "    x = np.copy(x0)\n",
        "    x_prev = np.copy(x0)\n",
        "    k = 0\n",
        "    functional_values = []\n",
        "\n",
        "    while np.linalg.norm(grad_q2(x)) > tolerance:\n",
        "        grad_perturbed = grad_q2(x + beta * (x - x_prev))\n",
        "\n",
        "        x_next = x - alpha * grad_perturbed + beta * (x - x_prev)\n",
        "        x_prev = np.copy(x)\n",
        "        x = np.copy(x_next)\n",
        "        k += 1\n",
        "        functional_values.append(q2(x_prev))\n",
        "\n",
        "    return k, x_next, q2(x), functional_values\n",
        "\n",
        "tolerance = 1e-8\n",
        "x0 = np.array([3., 5.])\n",
        "alpha = 2 / (7 + np.sqrt(5))\n",
        "mu = (7 + np.sqrt(5)) / (7 - np.sqrt(5))\n",
        "beta = (np.sqrt(mu) - 1) / (np.sqrt(mu) + 1)\n",
        "\n",
        "iteration3, minimizer3, final_value3, function_value3 = accelerated_gradient_descent(x0, alpha, beta, tolerance)\n",
        "print('----------------------------------------------------------------------------------')\n",
        "print('Type = Accelerated Gradient Descent')\n",
        "print('Iteration = ', iteration3)\n",
        "print('Minimizer = ', minimizer3)\n",
        "print('Final value = ', final_value3)\n",
        "print('----------------------------------------------------------------------------------')\n"
      ]
    },
    {
      "cell_type": "code",
      "execution_count": 15,
      "metadata": {
        "id": "85W2S0R0_cQw"
      },
      "outputs": [
        {
          "name": "stdout",
          "output_type": "stream",
          "text": [
            "----------------------------------------------------------------------------------\n",
            "Type = Normal Gradient Descent\n",
            "Iteration =  28\n",
            "Minimizer =  [0.09090909 0.63636364]\n",
            "Final value =  -0.6818181818181819\n",
            "----------------------------------------------------------------------------------\n"
          ]
        }
      ],
      "source": [
        "def grad_descent(x0, alpha, tau):\n",
        "    x = np.copy(x0)\n",
        "    k = 0\n",
        "    functional_values = []\n",
        "\n",
        "    while np.linalg.norm(grad_q2(x)) > tau:\n",
        "        x = x - alpha * grad_q2(x)\n",
        "        k += 1\n",
        "        functional_values.append(q2(x))\n",
        "\n",
        "    return k, x, q2(x), functional_values\n",
        "\n",
        "tau = 1e-8\n",
        "x0 = np.array([3, 5])\n",
        "alpha = 2 / (7 + np.sqrt(5))\n",
        "\n",
        "iteration4, minimizer4, final_value4, function_value4 = grad_descent(x0, alpha, tau)\n",
        "\n",
        "print('----------------------------------------------------------------------------------')\n",
        "print('Type = Normal Gradient Descent')\n",
        "print('Iteration = ', iteration4)\n",
        "print('Minimizer = ', minimizer4)\n",
        "print('Final value = ', final_value4)\n",
        "print('----------------------------------------------------------------------------------')"
      ]
    },
    {
      "cell_type": "markdown",
      "metadata": {
        "id": "3rF7hNd0_htY"
      },
      "source": [
        "# OBSERVATION\n",
        "In this scenario, it is evident that the normal gradient descent algorithm requires 10 additional iterations compared to the accelerated gradient descent method to reach the minimum value for the given function.\n"
      ]
    },
    {
      "cell_type": "markdown",
      "metadata": {
        "id": "p9a6TCjk_zDf"
      },
      "source": [
        "#Part 4"
      ]
    },
    {
      "cell_type": "code",
      "execution_count": 16,
      "metadata": {
        "id": "16lWibRc_lHv"
      },
      "outputs": [
        {
          "name": "stdout",
          "output_type": "stream",
          "text": [
            "------------------------------------------------------\n",
            "Max no of iterations =  100\n",
            "Minimizer =  [-0.1191874   0.01564742]\n",
            "Final value = 0.383600910872348\n",
            "------------------------------------------------------\n",
            "Max no of iterations =  500\n",
            "Minimizer =  [0.43711819 0.19075968]\n",
            "Final value = 0.003963895592601297\n",
            "------------------------------------------------------\n",
            "Max no of iterations =  1000\n",
            "Minimizer =  [0.49185363 0.24187917]\n",
            "Final value = 6.652998985998079e-05\n",
            "------------------------------------------------------\n",
            "Max no of iterations =  5000\n",
            "Minimizer =  [0.5  0.25]\n",
            "Final value = 2.207963373434313e-18\n",
            "------------------------------------------------------\n",
            "Max no of iterations =  10000\n",
            "Minimizer =  [0.5  0.25]\n",
            "Final value = 1.262177448353619e-29\n",
            "------------------------------------------------------\n",
            "Max no of iterations =  50000\n",
            "Minimizer =  [0.5  0.25]\n",
            "Final value = 1.262177448353619e-29\n",
            "------------------------------------------------------\n",
            "Max no of iterations =  100000\n",
            "Minimizer =  [0.5  0.25]\n",
            "Final value = 1.262177448353619e-29\n",
            "------------------------------------------------------\n",
            "Max no of iterations =  500000\n",
            "Minimizer =  [0.5  0.25]\n",
            "Final value = 1.262177448353619e-29\n",
            "------------------------------------------------------\n",
            "Max no of iterations =  1000000\n",
            "Minimizer =  [0.5  0.25]\n",
            "Final value = 1.262177448353619e-29\n",
            "------------------------------------------------------\n",
            "Max no of iterations =  5000000\n",
            "Minimizer =  [0.5  0.25]\n",
            "Final value = 1.262177448353619e-29\n"
          ]
        }
      ],
      "source": [
        "def f(x):\n",
        "    return 100 * (x[1] - x[0]**2)**2 + (0.5 - x[0])**2\n",
        "\n",
        "def gradient_f(x):\n",
        "    return np.array([-400 * x[0] * (x[1] - x[0]**2) - 2 * (0.5 - x[0]), 200 * (x[1] - x[0]**2)])\n",
        "\n",
        "def projection(x0):\n",
        "    if norm(x0) <= 1:\n",
        "        return x0\n",
        "    else:\n",
        "        return x0 / norm(x0)\n",
        "\n",
        "def ada_grad(x0, max_iter, R):\n",
        "    x = np.copy(x0)\n",
        "    xs = [x0]\n",
        "\n",
        "    dividing_factor = norm(gradient_f(x))**2\n",
        "\n",
        "    for i in range(max_iter):\n",
        "        alpha = R / np.sqrt(dividing_factor)\n",
        "        y = x - alpha * gradient_f(x)\n",
        "\n",
        "        x = projection(y)\n",
        "        dividing_factor += norm(gradient_f(x))**2\n",
        "\n",
        "        xs.append(x)\n",
        "\n",
        "    return x, f(x), xs\n",
        "\n",
        "x0 = np.array([0, 0])\n",
        "max_iter = [10**2, 500, 10**3, 5000, 10**4, 50000, 10**5, 500000, 10**6, 5000000]\n",
        "\n",
        "for t in max_iter:\n",
        "    R = 2\n",
        "    minimizer, minimum, xks = ada_grad(x0, t, R)\n",
        "    print('------------------------------------------------------')\n",
        "    print('Max no of iterations = ', t)\n",
        "    print('Minimizer = ', minimizer)\n",
        "    print('Final value =', minimum)\n"
      ]
    },
    {
      "cell_type": "code",
      "execution_count": 17,
      "metadata": {
        "id": "BtIs_8YYAUme"
      },
      "outputs": [
        {
          "name": "stdout",
          "output_type": "stream",
          "text": [
            "------------------------------------------------------\n",
            "Max no of iterations =  100\n",
            "Minimizer =  [-0.89310725 -0.4498438 ]\n",
            "Final value = -67.54634626760335\n",
            "------------------------------------------------------\n",
            "Max no of iterations =  500\n",
            "Minimizer =  [-0.8381429  -0.54545071]\n",
            "Final value = -97.89422078414145\n",
            "------------------------------------------------------\n",
            "Max no of iterations =  1000\n",
            "Minimizer =  [-0.8381429  -0.54545071]\n",
            "Final value = -97.89422078414157\n",
            "------------------------------------------------------\n",
            "Max no of iterations =  5000\n",
            "Minimizer =  [-0.8381429  -0.54545071]\n",
            "Final value = -97.89422078414151\n",
            "------------------------------------------------------\n",
            "Max no of iterations =  10000\n",
            "Minimizer =  [-0.8381429  -0.54545071]\n",
            "Final value = -97.89422078414145\n",
            "------------------------------------------------------\n",
            "Max no of iterations =  50000\n",
            "Minimizer =  [-0.8381429  -0.54545071]\n",
            "Final value = -97.89422078414157\n",
            "------------------------------------------------------\n",
            "Max no of iterations =  100000\n",
            "Minimizer =  [-0.8381429  -0.54545071]\n",
            "Final value = -97.89422078414145\n",
            "------------------------------------------------------\n",
            "Max no of iterations =  500000\n",
            "Minimizer =  [-0.8381429  -0.54545071]\n",
            "Final value = -97.89422078414145\n",
            "------------------------------------------------------\n",
            "Max no of iterations =  1000000\n",
            "Minimizer =  [-0.8381429  -0.54545071]\n",
            "Final value = -97.89422078414151\n",
            "------------------------------------------------------\n",
            "Max no of iterations =  5000000\n",
            "Minimizer =  [-0.8381429  -0.54545071]\n",
            "Final value = -97.89422078414155\n"
          ]
        }
      ],
      "source": [
        "def f2(x):\n",
        "    t = 5 * x[0] - 5\n",
        "    m = 5 * x[1] - 5\n",
        "    return np.sin(m) * np.exp((1 - np.cos(t))**2) + np.cos(t) * np.exp((1 - np.sin(m))**2) + (t - m)**2\n",
        "\n",
        "def grad_f2(x):\n",
        "    t = 5 * x[0] - 5\n",
        "    m = 5 * x[1] - 5\n",
        "    return np.array([\n",
        "        np.sin(m) * np.exp((1 - np.cos(t))**2) * 10 * np.sin(t) * (1 - np.cos(t)) - 5 * np.exp((1 - np.sin(m))**2) * np.sin(t) + 10 * (t - m),\n",
        "        np.cos(m) * np.exp((1 - np.cos(t))**2) * 5 - 10 * np.cos(t) * np.cos(m) * (1 - np.sin(m)) * np.exp((1 - np.sin(m))**2) - 10 * (t - m)\n",
        "    ])\n",
        "\n",
        "def projection(x0):\n",
        "    if norm(x0) <= 1:\n",
        "        return x0\n",
        "    else:\n",
        "        return x0 / norm(x0)\n",
        "\n",
        "def ada_grad2(x0, max_iter, R):\n",
        "    x = np.copy(x0)\n",
        "    xs = [x0]\n",
        "    dividing_factor = norm(grad_f2(x))**2\n",
        "\n",
        "    for _ in range(max_iter):\n",
        "        alpha = R / np.sqrt(dividing_factor)\n",
        "        yt = x - alpha * grad_f2(x)\n",
        "        x = projection(yt)\n",
        "        dividing_factor += norm(grad_f2(x))**2\n",
        "        xs.append(x)\n",
        "\n",
        "    return x, f2(x), xs\n",
        "\n",
        "x0 = np.array([0, 0])\n",
        "max_iter = [10**2, 500, 10**3, 5000, 10**4, 50000, 10**5, 500000, 10**6, 5000000]\n",
        "\n",
        "for t in max_iter:\n",
        "    R = 2\n",
        "    minimizer2, minimum2, xks2 = ada_grad2(x0, t, R)\n",
        "    print('------------------------------------------------------')\n",
        "    print('Max no of iterations = ', t)\n",
        "    print('Minimizer = ', minimizer2)\n",
        "    print('Final value =', minimum2)\n"
      ]
    },
    {
      "cell_type": "markdown",
      "metadata": {
        "id": "7tigkcLEAcxm"
      },
      "source": [
        "#Part 5"
      ]
    },
    {
      "cell_type": "code",
      "execution_count": 18,
      "metadata": {
        "id": "u3e4gc_ZAfGi"
      },
      "outputs": [
        {
          "name": "stdout",
          "output_type": "stream",
          "text": [
            "Type = Conjugate Gradient\n",
            "Minimizer =  [0.09090909 0.63636364]\n",
            "Final value = -0.6818181818181818\n",
            "Number of iterations =  2\n",
            "----------------------------------------------------------------------------------\n",
            "Type = Normal Gradient Descent\n",
            "Iteration =  26\n",
            "Minimizer =  [0.09090909 0.63636363]\n",
            "Final value =  -0.6818181818181818\n",
            "----------------------------------------------------------------------------------\n"
          ]
        }
      ],
      "source": [
        "def q2(x):\n",
        "    A = np.array([[4, 1], [1, 3]])\n",
        "    b2 = np.array([1, 2])\n",
        "    return 0.5 * x @ A @ x - b2 @ x\n",
        "\n",
        "def grad_q2(x):\n",
        "    A = np.array([[4, 1], [1, 3]])\n",
        "    b2 = np.array([1, 2])\n",
        "    return A @ x - b2\n",
        "\n",
        "def hess_q2():\n",
        "    return np.array([[4, 1], [1, 3]])\n",
        "\n",
        "def conjugate_grad(x0, tolerance):\n",
        "    r = -1 * grad_q2(x0)\n",
        "    d = np.copy(r)\n",
        "    x = np.copy(x0)\n",
        "    k = 0\n",
        "    while norm(r) > tolerance:\n",
        "        alpha = r @ r / (d @ hess_q2() @ d)\n",
        "        x = x + alpha * d\n",
        "        r_next = r - alpha * (hess_q2() @ d)\n",
        "        beta = -(r_next @ r_next) / (r @ r)\n",
        "        d = r_next - beta * d\n",
        "        r = np.copy(r_next)\n",
        "        k = k + 1\n",
        "    return x, q2(x), k\n",
        "\n",
        "def grad_descent(x0, alpha, tau):\n",
        "    x = np.copy(x0)\n",
        "    k = 0\n",
        "    while np.linalg.norm(grad_q2(x)) > tau:\n",
        "        x = x - alpha * grad_q2(x)\n",
        "        k = k + 1\n",
        "    return k, x, q2(x)\n",
        "\n",
        "tolerance = 1e-8\n",
        "x0 = np.array([5, 3])\n",
        "minimizer5, final_value5, iterations5 = conjugate_grad(x0, tolerance)\n",
        "\n",
        "alpha = 2 / (7 + np.sqrt(5))\n",
        "iteration6, minimizer6, final_value6 = grad_descent(x0, alpha, tolerance)\n",
        "\n",
        "print('Type = Conjugate Gradient')\n",
        "print('Minimizer = ', minimizer5)\n",
        "print('Final value =', final_value5)\n",
        "print('Number of iterations = ', iterations5)\n",
        "print('----------------------------------------------------------------------------------')\n",
        "print('Type = Normal Gradient Descent')\n",
        "print('Iteration = ', iteration6)\n",
        "print('Minimizer = ', minimizer6)\n",
        "print('Final value = ', final_value6)\n",
        "print('----------------------------------------------------------------------------------')\n"
      ]
    }
  ],
  "metadata": {
    "colab": {
      "provenance": []
    },
    "kernelspec": {
      "display_name": "Python 3",
      "name": "python3"
    },
    "language_info": {
      "codemirror_mode": {
        "name": "ipython",
        "version": 3
      },
      "file_extension": ".py",
      "mimetype": "text/x-python",
      "name": "python",
      "nbconvert_exporter": "python",
      "pygments_lexer": "ipython3",
      "version": "3.9.13"
    }
  },
  "nbformat": 4,
  "nbformat_minor": 0
}
