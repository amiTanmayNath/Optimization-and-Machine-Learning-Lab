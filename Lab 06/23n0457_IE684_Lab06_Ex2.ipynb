{
  "cells": [
    {
      "cell_type": "code",
      "execution_count": null,
      "metadata": {
        "id": "1GHb-BJ4opu5"
      },
      "outputs": [],
      "source": [
        "import numpy as np\n",
        "import timeit\n",
        "np.random.seed(1000)"
      ]
    },
    {
      "cell_type": "code",
      "execution_count": null,
      "metadata": {
        "id": "GdCz6oDazwCz"
      },
      "outputs": [],
      "source": [
        " def evalf(x, n, l ):\n",
        "  assert type(x) is np.ndarray\n",
        "  assert len(x) == n\n",
        "  fval = np.linalg.norm(np.matmul(A,x) - y)\n",
        "  fval = l/2*np.matmul(x.T,x) + 0.5 * (fval)**2\n",
        "  return (fval)\n",
        "#x = np.array([1,1])\n",
        "#evalf(x, 2,1)"
      ]
    },
    {
      "cell_type": "code",
      "execution_count": null,
      "metadata": {
        "id": "mfaRDL7ItpjQ"
      },
      "outputs": [],
      "source": [
        "def evalg(x, n, l):\n",
        "  assert type(x) is np.ndarray\n",
        "  assert len(x) == n\n",
        "  grad = l*x + np.matmul(A.T, np.matmul(A, x) - y)\n",
        "  return grad"
      ]
    },
    {
      "cell_type": "code",
      "execution_count": null,
      "metadata": {
        "id": "HVjLvlzDxXRJ"
      },
      "outputs": [],
      "source": [
        "def evalh(x,n,l):\n",
        "  assert type(x) is np.ndarray  #do not allow arbitrary type arguments\n",
        "  assert len(x) == n #do not allow arbitrary size arguments\n",
        "  return np.matmul(A.T,A) + l*np.identity(n)"
      ]
    },
    {
      "cell_type": "code",
      "execution_count": null,
      "metadata": {
        "id": "l2cIGt54xczm"
      },
      "outputs": [],
      "source": [
        "#line search type\n",
        "BACKTRACKING_LINE_SEARCH = 2"
      ]
    },
    {
      "cell_type": "code",
      "execution_count": null,
      "metadata": {
        "id": "QXAEV1JGxga_"
      },
      "outputs": [],
      "source": [
        "def compute_D_k(x,n):\n",
        "  assert type(x) is np.ndarray\n",
        "  assert len(x) == n\n",
        "  hess = evalh(x,n)\n",
        "  return np.linalg.inv(hess)"
      ]
    },
    {
      "cell_type": "code",
      "execution_count": null,
      "metadata": {
        "id": "-P3VSaTFxjdp"
      },
      "outputs": [],
      "source": [
        "def compute_steplength_backtracking_scaled_direction(x,n,l, gradf, direction, alpha_start, rho, gamma): #add appropriate arguments to the function\n",
        "  assert type(x) is np.ndarray and len(x) == n\n",
        "  assert type(gradf) is np.ndarray and len(gradf) == n\n",
        "  #assert type(direction) is np.ndarray and len(direction) == 2\n",
        "\n",
        "  #assert type(alpha_start) is float and alpha_start>=0.\n",
        "  assert type(rho) is float and rho>=0.\n",
        "  assert type(gamma) is float and gamma>=0.\n",
        "\n",
        "\n",
        "  #Complete the code\n",
        "  alpha = alpha_start\n",
        "  gradf = evalg(x,n,l)\n",
        "  p=direction\n",
        "  #np.matmul(np.matrix.transpose(gradf), p)\n",
        "  while evalf(x+alpha*p,n,l) > evalf(x,n,l) + gamma*alpha*np.matmul(np.matrix.transpose(gradf), p) :\n",
        "    alpha = rho*alpha\n",
        "\n",
        "  return alpha"
      ]
    },
    {
      "cell_type": "code",
      "execution_count": null,
      "metadata": {
        "id": "yUEI7557xm83"
      },
      "outputs": [],
      "source": [
        "import math\n",
        "def find_minimizer_Newtonmethod(start_x, n,l, tol, line_search_type, *args):\n",
        "  #Input: start_x is a numpy array of size n, tol denotes the tolerance and is a positive float value\n",
        "  assert type(start_x) is np.ndarray #do not allow arbitrary type arguments\n",
        "  assert len(start_x) == n #do not allow arbitrary size arguments\n",
        "  assert type(tol) is float and tol>=0\n",
        "\n",
        "  x = start_x\n",
        "  g_x = evalg(x,n,l)\n",
        "  h_x = evalh(x,n,l)\n",
        "\n",
        "  if line_search_type == BACKTRACKING_LINE_SEARCH:\n",
        "      alpha_start = float(args[0])\n",
        "      rho = float(args[1])\n",
        "      gamma = float(args[2])\n",
        "  k = 0\n",
        "  while (np.linalg.norm(g_x) > tol): #continue as long as the norm of gradient is not close to zero upto a tolerance tol\n",
        "    #implement the Newton's method here\n",
        "    D_k=np.linalg.inv(evalh(x,n,l))\n",
        "    direction = np.matmul(D_k,-g_x)\n",
        "    if line_search_type == BACKTRACKING_LINE_SEARCH:\n",
        "      step_length = compute_steplength_backtracking_scaled_direction(x,n,l,g_x, direction, alpha_start, rho, gamma)\n",
        "    else:\n",
        "      raise ValueError('Line search type unknown. Please check!')\n",
        "    x = np.subtract(x, np.multiply(step_length,np.matmul(D_k, g_x)))\n",
        "    k += 1 #increment iteration\n",
        "    g_x = evalg(x, n,l) #compute gradient at new point\n",
        "  return x, evalf(x,n,l), k"
      ]
    },
    {
      "cell_type": "code",
      "execution_count": null,
      "metadata": {
        "id": "OA-LYOCOxpJY"
      },
      "outputs": [],
      "source": [
        "\n",
        "def find_minimizer_BFGS_method(start_x, n,l, tol, line_search_type, *args):\n",
        "  #Input: start_x is a numpy array of size n, tol denotes the tolerance and is a positive float value\n",
        "  assert type(start_x) is np.ndarray #do not allow arbitrary type arguments\n",
        "  assert len(start_x) == n #do not allow arbitrary size arguments\n",
        "  assert type(tol) is float and tol>=0\n",
        "\n",
        "  x = start_x\n",
        "  x0 = x\n",
        "  g_x = evalg(x,n,l)\n",
        "  g0 = g_x\n",
        "\n",
        "\n",
        "  if line_search_type == BACKTRACKING_LINE_SEARCH:\n",
        "      alpha_start = float(args[0])\n",
        "      rho = float(args[1])\n",
        "      gamma = float(args[2])\n",
        "  k = 0\n",
        "  while (np.linalg.norm(g_x) > tol): #continue as long as the norm of gradient is not close to zero upto a tolerance tol\n",
        "    #implement the Newton's method here\n",
        "\n",
        "    x0 = x\n",
        "    g_x = evalg(x,n,l)\n",
        "    g0 = g_x\n",
        "\n",
        "    if k==0:\n",
        "      B_k=np.identity(n)\n",
        "    else:\n",
        "\n",
        "      I = np.identity(n)\n",
        "\n",
        "      mu_k = 1/np.matmul(np.transpose(y_k),s_k)\n",
        "\n",
        "      B_k = np.add(np.matmul(np.matmul(np.subtract(I, mu_k*np.outer( s_k, np.transpose(y_k))),B_k), np.subtract(I, mu_k*np.outer(y_k,np.transpose(s_k)))), mu_k*np.outer( s_k, np.transpose(s_k)))\n",
        "    direction = np.matmul(B_k,-g_x)\n",
        "    if line_search_type == BACKTRACKING_LINE_SEARCH:\n",
        "      step_length = compute_steplength_backtracking_scaled_direction(x,n,l,g_x, direction, alpha_start, rho, gamma)\n",
        "    else:\n",
        "      raise ValueError('Line search type unknown. Please check!')\n",
        "    x = np.subtract(x, np.multiply(step_length,np.matmul(B_k, g_x)))\n",
        "    g_x = evalg(x, n,l)\n",
        "    s_k = x-x0\n",
        "    y_k=  g_x-g0\n",
        "    k += 1 #increment iteration\n",
        "  return x, evalf(x,n,l), k"
      ]
    },
    {
      "cell_type": "code",
      "execution_count": null,
      "metadata": {
        "id": "th30A_odGCGB"
      },
      "outputs": [],
      "source": [
        "from tqdm import tqdm"
      ]
    },
    {
      "cell_type": "code",
      "execution_count": null,
      "metadata": {
        "colab": {
          "base_uri": "https://localhost:8080/"
        },
        "id": "Bc60a8Iged0S",
        "outputId": "387c777d-b68d-448a-874e-0edb724584e2",
        "scrolled": false
      },
      "outputs": [
        {
          "name": "stderr",
          "output_type": "stream",
          "text": [
            " 10%|████████▍                                                                           | 1/10 [00:00<00:08,  1.03it/s]"
          ]
        },
        {
          "name": "stdout",
          "output_type": "stream",
          "text": [
            "\n",
            "\n",
            "d: 1000\n",
            "Total time: 0.9500885452143848\n",
            "L2 norm difference ||Ax* - y||^2:  2.1594356171272403e-07\n",
            "L2 norm difference || x_opt - xorig||^2:  817.7202986394225\n"
          ]
        },
        {
          "name": "stderr",
          "output_type": "stream",
          "text": [
            " 20%|████████████████▊                                                                   | 2/10 [00:08<00:40,  5.00s/it]"
          ]
        },
        {
          "name": "stdout",
          "output_type": "stream",
          "text": [
            "\n",
            "\n",
            "d: 5000\n",
            "Total time: 7.79838355910033\n",
            "L2 norm difference ||Ax* - y||^2:  5.20105640960736e-08\n",
            "L2 norm difference || x_opt - xorig||^2:  4774.913359906696\n"
          ]
        },
        {
          "name": "stderr",
          "output_type": "stream",
          "text": [
            " 30%|█████████████████████████▏                                                          | 3/10 [01:02<03:09, 27.08s/it]"
          ]
        },
        {
          "name": "stdout",
          "output_type": "stream",
          "text": [
            "\n",
            "\n",
            "d: 10000\n",
            "Total time: 53.28306541312486\n",
            "L2 norm difference ||Ax* - y||^2:  1.7552731147651013e-08\n",
            "L2 norm difference || x_opt - xorig||^2:  9825.861490427435\n"
          ]
        },
        {
          "name": "stderr",
          "output_type": "stream",
          "text": [
            " 40%|█████████████████████████████████▏                                                 | 4/10 [06:25<14:23, 143.93s/it]"
          ]
        },
        {
          "name": "stdout",
          "output_type": "stream",
          "text": [
            "\n",
            "\n",
            "d: 20000\n",
            "Total time: 322.949057132937\n",
            "L2 norm difference ||Ax* - y||^2:  1.1153600947149368e-08\n",
            "L2 norm difference || x_opt - xorig||^2:  19778.091457899427\n"
          ]
        },
        {
          "name": "stderr",
          "output_type": "stream",
          "text": [
            " 40%|█████████████████████████████████▏                                                 | 4/10 [20:12<30:19, 303.19s/it]\n"
          ]
        },
        {
          "ename": "KeyboardInterrupt",
          "evalue": "",
          "output_type": "error",
          "traceback": [
            "\u001b[0;31m---------------------------------------------------------------------------\u001b[0m",
            "\u001b[0;31mKeyboardInterrupt\u001b[0m                         Traceback (most recent call last)",
            "\u001b[0;32m/tmp/ipykernel_1808529/2076572277.py\u001b[0m in \u001b[0;36m<module>\u001b[0;34m\u001b[0m\n\u001b[1;32m     20\u001b[0m   \u001b[0mstart\u001b[0m \u001b[0;34m=\u001b[0m \u001b[0mtimeit\u001b[0m\u001b[0;34m.\u001b[0m\u001b[0mdefault_timer\u001b[0m\u001b[0;34m(\u001b[0m\u001b[0;34m)\u001b[0m\u001b[0;34m\u001b[0m\u001b[0;34m\u001b[0m\u001b[0m\n\u001b[1;32m     21\u001b[0m   \u001b[0;31m#call Newton method with A,y,lambda and obtain the optimal solution x_opt\u001b[0m\u001b[0;34m\u001b[0m\u001b[0;34m\u001b[0m\u001b[0m\n\u001b[0;32m---> 22\u001b[0;31m   \u001b[0mx_opt\u001b[0m\u001b[0;34m,\u001b[0m \u001b[0mopt_fval\u001b[0m\u001b[0;34m,\u001b[0m \u001b[0mnum_iters\u001b[0m \u001b[0;34m=\u001b[0m \u001b[0mfind_minimizer_Newtonmethod\u001b[0m\u001b[0;34m(\u001b[0m\u001b[0mmy_start_x\u001b[0m\u001b[0;34m,\u001b[0m \u001b[0md\u001b[0m\u001b[0;34m,\u001b[0m\u001b[0mlambda_reg\u001b[0m\u001b[0;34m,\u001b[0m \u001b[0mmy_tol\u001b[0m\u001b[0;34m,\u001b[0m \u001b[0mBACKTRACKING_LINE_SEARCH\u001b[0m\u001b[0;34m,\u001b[0m \u001b[0malpha\u001b[0m\u001b[0;34m,\u001b[0m \u001b[0mrho\u001b[0m\u001b[0;34m,\u001b[0m \u001b[0mgamma\u001b[0m\u001b[0;34m)\u001b[0m\u001b[0;34m\u001b[0m\u001b[0;34m\u001b[0m\u001b[0m\n\u001b[0m\u001b[1;32m     23\u001b[0m   \u001b[0;31m#x_opt = Newton(A,y,lambda_reg)\u001b[0m\u001b[0;34m\u001b[0m\u001b[0;34m\u001b[0m\u001b[0m\n\u001b[1;32m     24\u001b[0m   \u001b[0mnewtontime\u001b[0m \u001b[0;34m=\u001b[0m \u001b[0mtimeit\u001b[0m\u001b[0;34m.\u001b[0m\u001b[0mdefault_timer\u001b[0m\u001b[0;34m(\u001b[0m\u001b[0;34m)\u001b[0m \u001b[0;34m-\u001b[0m \u001b[0mstart\u001b[0m \u001b[0;31m#time is in seconds\u001b[0m\u001b[0;34m\u001b[0m\u001b[0;34m\u001b[0m\u001b[0m\n",
            "\u001b[0;32m/tmp/ipykernel_1808529/657487671.py\u001b[0m in \u001b[0;36mfind_minimizer_Newtonmethod\u001b[0;34m(start_x, n, l, tol, line_search_type, *args)\u001b[0m\n\u001b[1;32m     17\u001b[0m   \u001b[0;32mwhile\u001b[0m \u001b[0;34m(\u001b[0m\u001b[0mnp\u001b[0m\u001b[0;34m.\u001b[0m\u001b[0mlinalg\u001b[0m\u001b[0;34m.\u001b[0m\u001b[0mnorm\u001b[0m\u001b[0;34m(\u001b[0m\u001b[0mg_x\u001b[0m\u001b[0;34m)\u001b[0m \u001b[0;34m>\u001b[0m \u001b[0mtol\u001b[0m\u001b[0;34m)\u001b[0m\u001b[0;34m:\u001b[0m \u001b[0;31m#continue as long as the norm of gradient is not close to zero upto a tolerance tol\u001b[0m\u001b[0;34m\u001b[0m\u001b[0;34m\u001b[0m\u001b[0m\n\u001b[1;32m     18\u001b[0m     \u001b[0;31m#implement the Newton's method here\u001b[0m\u001b[0;34m\u001b[0m\u001b[0;34m\u001b[0m\u001b[0m\n\u001b[0;32m---> 19\u001b[0;31m     \u001b[0mD_k\u001b[0m\u001b[0;34m=\u001b[0m\u001b[0mnp\u001b[0m\u001b[0;34m.\u001b[0m\u001b[0mlinalg\u001b[0m\u001b[0;34m.\u001b[0m\u001b[0minv\u001b[0m\u001b[0;34m(\u001b[0m\u001b[0mevalh\u001b[0m\u001b[0;34m(\u001b[0m\u001b[0mx\u001b[0m\u001b[0;34m,\u001b[0m\u001b[0mn\u001b[0m\u001b[0;34m,\u001b[0m\u001b[0ml\u001b[0m\u001b[0;34m)\u001b[0m\u001b[0;34m)\u001b[0m\u001b[0;34m\u001b[0m\u001b[0;34m\u001b[0m\u001b[0m\n\u001b[0m\u001b[1;32m     20\u001b[0m     \u001b[0mdirection\u001b[0m \u001b[0;34m=\u001b[0m \u001b[0mnp\u001b[0m\u001b[0;34m.\u001b[0m\u001b[0mmatmul\u001b[0m\u001b[0;34m(\u001b[0m\u001b[0mD_k\u001b[0m\u001b[0;34m,\u001b[0m\u001b[0;34m-\u001b[0m\u001b[0mg_x\u001b[0m\u001b[0;34m)\u001b[0m\u001b[0;34m\u001b[0m\u001b[0;34m\u001b[0m\u001b[0m\n\u001b[1;32m     21\u001b[0m     \u001b[0;32mif\u001b[0m \u001b[0mline_search_type\u001b[0m \u001b[0;34m==\u001b[0m \u001b[0mBACKTRACKING_LINE_SEARCH\u001b[0m\u001b[0;34m:\u001b[0m\u001b[0;34m\u001b[0m\u001b[0;34m\u001b[0m\u001b[0m\n",
            "\u001b[0;32m~/.local/lib/python3.9/site-packages/numpy/linalg/linalg.py\u001b[0m in \u001b[0;36minv\u001b[0;34m(a)\u001b[0m\n\u001b[1;32m    559\u001b[0m     \u001b[0msignature\u001b[0m \u001b[0;34m=\u001b[0m \u001b[0;34m'D->D'\u001b[0m \u001b[0;32mif\u001b[0m \u001b[0misComplexType\u001b[0m\u001b[0;34m(\u001b[0m\u001b[0mt\u001b[0m\u001b[0;34m)\u001b[0m \u001b[0;32melse\u001b[0m \u001b[0;34m'd->d'\u001b[0m\u001b[0;34m\u001b[0m\u001b[0;34m\u001b[0m\u001b[0m\n\u001b[1;32m    560\u001b[0m     \u001b[0mextobj\u001b[0m \u001b[0;34m=\u001b[0m \u001b[0mget_linalg_error_extobj\u001b[0m\u001b[0;34m(\u001b[0m\u001b[0m_raise_linalgerror_singular\u001b[0m\u001b[0;34m)\u001b[0m\u001b[0;34m\u001b[0m\u001b[0;34m\u001b[0m\u001b[0m\n\u001b[0;32m--> 561\u001b[0;31m     \u001b[0mainv\u001b[0m \u001b[0;34m=\u001b[0m \u001b[0m_umath_linalg\u001b[0m\u001b[0;34m.\u001b[0m\u001b[0minv\u001b[0m\u001b[0;34m(\u001b[0m\u001b[0ma\u001b[0m\u001b[0;34m,\u001b[0m \u001b[0msignature\u001b[0m\u001b[0;34m=\u001b[0m\u001b[0msignature\u001b[0m\u001b[0;34m,\u001b[0m \u001b[0mextobj\u001b[0m\u001b[0;34m=\u001b[0m\u001b[0mextobj\u001b[0m\u001b[0;34m)\u001b[0m\u001b[0;34m\u001b[0m\u001b[0;34m\u001b[0m\u001b[0m\n\u001b[0m\u001b[1;32m    562\u001b[0m     \u001b[0;32mreturn\u001b[0m \u001b[0mwrap\u001b[0m\u001b[0;34m(\u001b[0m\u001b[0mainv\u001b[0m\u001b[0;34m.\u001b[0m\u001b[0mastype\u001b[0m\u001b[0;34m(\u001b[0m\u001b[0mresult_t\u001b[0m\u001b[0;34m,\u001b[0m \u001b[0mcopy\u001b[0m\u001b[0;34m=\u001b[0m\u001b[0;32mFalse\u001b[0m\u001b[0;34m)\u001b[0m\u001b[0;34m)\u001b[0m\u001b[0;34m\u001b[0m\u001b[0;34m\u001b[0m\u001b[0m\n\u001b[1;32m    563\u001b[0m \u001b[0;34m\u001b[0m\u001b[0m\n",
            "\u001b[0;31mKeyboardInterrupt\u001b[0m: "
          ]
        }
      ],
      "source": [
        "#Code for Newton method\n",
        "my_tol= 1e-3\n",
        "alpha = 0.99\n",
        "rho = 0.5\n",
        "gamma = 0.5\n",
        "import numpy as np\n",
        "import timeit\n",
        "np.random.seed(1000) #for repeatability\n",
        "N = 200\n",
        "ds = [1000, 5000, 10000, 20000, 25000, 50000, 100000, 200000, 500000, 1000000]\n",
        "lambda_reg = 0.001\n",
        "eps = np.random.randn(N,1) #random noise\n",
        "#For each value of dimension in the ds array, we will check the behavior of Newton method\n",
        "for i in tqdm(range(np.size(ds))):\n",
        "  d=ds[i]\n",
        "  A = np.random.randn(N,d)\n",
        "  xorig = np.ones((d,1))\n",
        "  my_start_x = np.zeros((d,1))\n",
        "  y = np.dot(A,xorig) + eps\n",
        "  start = timeit.default_timer()\n",
        "  #call Newton method with A,y,lambda and obtain the optimal solution x_opt\n",
        "  x_opt, opt_fval, num_iters = find_minimizer_Newtonmethod(my_start_x, d,lambda_reg, my_tol, BACKTRACKING_LINE_SEARCH, alpha, rho, gamma)\n",
        "  #x_opt = Newton(A,y,lambda_reg)\n",
        "  newtontime = timeit.default_timer() - start #time is in seconds\n",
        "  #print the total time and the L2 norm difference || x_opt - xorig|| for Newton method\n",
        "  diff = np.subtract(x_opt, xorig)\n",
        "  print(\"\\n\\nd:\", d)\n",
        "  print(\"Total time:\", newtontime)\n",
        "  print(\"L2 norm difference ||Ax* - y||^2: \", np.linalg.norm(np.subtract(np.matmul(A, x_opt), y))**2)\n",
        "  print(\"L2 norm difference || x_opt - xorig||^2: \", np.linalg.norm(diff)**2)"
      ]
    },
    {
      "cell_type": "markdown",
      "metadata": {
        "id": "cK5rs8m8GCGE"
      },
      "source": [
        "**In the google collab it took d = 10000 to stop and on the server it went to d = 20000**"
      ]
    },
    {
      "cell_type": "markdown",
      "metadata": {
        "id": "uuHRzVB1AFNR"
      },
      "source": [
        "$\\textbf{Tabulation}$"
      ]
    },
    {
      "cell_type": "code",
      "execution_count": null,
      "metadata": {
        "id": "8btieyK2z-Te",
        "outputId": "2479a3dc-0d69-454d-b37a-19fe9fa9f97f"
      },
      "outputs": [
        {
          "data": {
            "text/html": [
              "<div>\n",
              "<style scoped>\n",
              "    .dataframe tbody tr th:only-of-type {\n",
              "        vertical-align: middle;\n",
              "    }\n",
              "\n",
              "    .dataframe tbody tr th {\n",
              "        vertical-align: top;\n",
              "    }\n",
              "\n",
              "    .dataframe thead th {\n",
              "        text-align: right;\n",
              "    }\n",
              "</style>\n",
              "<table border=\"1\" class=\"dataframe\">\n",
              "  <thead>\n",
              "    <tr style=\"text-align: right;\">\n",
              "      <th></th>\n",
              "      <th>Dimention_of_A</th>\n",
              "      <th>Total Time</th>\n",
              "      <th>||Ax^* - y||_2^2</th>\n",
              "      <th>||x^* - x_{orig}||_2^2</th>\n",
              "    </tr>\n",
              "  </thead>\n",
              "  <tbody>\n",
              "    <tr>\n",
              "      <th>0</th>\n",
              "      <td>[200, 1000]</td>\n",
              "      <td>0.724304</td>\n",
              "      <td>2.159436e-07</td>\n",
              "      <td>817.720299</td>\n",
              "    </tr>\n",
              "    <tr>\n",
              "      <th>1</th>\n",
              "      <td>[200, 5000]</td>\n",
              "      <td>51.734656</td>\n",
              "      <td>5.201056e-08</td>\n",
              "      <td>4774.913360</td>\n",
              "    </tr>\n",
              "    <tr>\n",
              "      <th>2</th>\n",
              "      <td>[200, 10000]</td>\n",
              "      <td>445.374149</td>\n",
              "      <td>1.755273e-08</td>\n",
              "      <td>9825.861490</td>\n",
              "    </tr>\n",
              "  </tbody>\n",
              "</table>\n",
              "</div>"
            ],
            "text/plain": [
              "  Dimention_of_A   Total Time  ||Ax^* - y||_2^2  ||x^* - x_{orig}||_2^2\n",
              "0     [200, 1000]    0.724304      2.159436e-07              817.720299\n",
              "1     [200, 5000]   51.734656      5.201056e-08             4774.913360\n",
              "2    [200, 10000]  445.374149      1.755273e-08             9825.861490"
            ]
          },
          "execution_count": 23,
          "metadata": {},
          "output_type": "execute_result"
        }
      ],
      "source": [
        "import pandas as pd\n",
        "Dimention_of_A=[[200, 1000],[200,5000],[200,10000]]\n",
        "Total_Time = [0.7243036769999947, 51.73465628299999, 445.374148636]\n",
        "L2_norm_difference1= [ 2.1594356170004829e-07, 5.201056420770291e-08,  1.7552731181366058e-08]\n",
        "L2_norm_difference2= [817.7202986394223, 4774.913359906627\n",
        " , 9825.861490427436]\n",
        "data = {'Dimention_of_A ': Dimention_of_A,'Total Time':Total_Time,'||Ax^* - y||_2^2':L2_norm_difference1,'||x^* - x_{orig}||_2^2':L2_norm_difference2}\n",
        "df = pd.DataFrame(data)\n",
        "df"
      ]
    },
    {
      "cell_type": "code",
      "execution_count": null,
      "metadata": {
        "id": "iZGKGSyJ1-GT",
        "outputId": "0ddcce8a-78f9-444f-aea5-f9c66088e218"
      },
      "outputs": [
        {
          "name": "stdout",
          "output_type": "stream",
          "text": [
            "Using BFGS Method\n",
            "d: 1000\n",
            "Total time: 5.30786412069574\n",
            "L2 norm difference ||Ax* - y||_2^2:  2.1792993993142904e-07\n",
            "L2 norm difference || x_opt - xorig||:  817.7202987075375\n",
            "d: 5000\n",
            "Total time: 393.4668908366002\n",
            "L2 norm difference ||Ax* - y||_2^2:  4.8410708212598343e-08\n",
            "L2 norm difference || x_opt - xorig||:  4774.913359904622\n"
          ]
        },
        {
          "ename": "KeyboardInterrupt",
          "evalue": "",
          "output_type": "error",
          "traceback": [
            "\u001b[0;31m---------------------------------------------------------------------------\u001b[0m",
            "\u001b[0;31mKeyboardInterrupt\u001b[0m                         Traceback (most recent call last)",
            "\u001b[0;32m/tmp/ipykernel_1808529/476495380.py\u001b[0m in \u001b[0;36m<module>\u001b[0;34m\u001b[0m\n\u001b[1;32m     21\u001b[0m   \u001b[0mstart\u001b[0m \u001b[0;34m=\u001b[0m \u001b[0mtimeit\u001b[0m\u001b[0;34m.\u001b[0m\u001b[0mdefault_timer\u001b[0m\u001b[0;34m(\u001b[0m\u001b[0;34m)\u001b[0m\u001b[0;34m\u001b[0m\u001b[0;34m\u001b[0m\u001b[0m\n\u001b[1;32m     22\u001b[0m   \u001b[0;31m#call BFGS method with A,y,lambda and obtain the optimal solution x_opt_bfgs\u001b[0m\u001b[0;34m\u001b[0m\u001b[0;34m\u001b[0m\u001b[0m\n\u001b[0;32m---> 23\u001b[0;31m   \u001b[0mx_star_bfgs\u001b[0m\u001b[0;34m,\u001b[0m \u001b[0mopt_fval\u001b[0m\u001b[0;34m,\u001b[0m \u001b[0mnum_iters\u001b[0m\u001b[0;34m=\u001b[0m \u001b[0mfind_minimizer_BFGS_method\u001b[0m\u001b[0;34m(\u001b[0m\u001b[0mmy_start_x\u001b[0m\u001b[0;34m,\u001b[0m\u001b[0md\u001b[0m\u001b[0;34m,\u001b[0m\u001b[0mlambda_reg\u001b[0m\u001b[0;34m,\u001b[0m\u001b[0mmy_tol\u001b[0m\u001b[0;34m,\u001b[0m\u001b[0mBACKTRACKING_LINE_SEARCH\u001b[0m\u001b[0;34m,\u001b[0m\u001b[0;36m0.99\u001b[0m\u001b[0;34m,\u001b[0m \u001b[0;36m0.5\u001b[0m\u001b[0;34m,\u001b[0m\u001b[0;36m0.5\u001b[0m\u001b[0;34m)\u001b[0m\u001b[0;34m\u001b[0m\u001b[0;34m\u001b[0m\u001b[0m\n\u001b[0m\u001b[1;32m     24\u001b[0m \u001b[0;34m\u001b[0m\u001b[0m\n\u001b[1;32m     25\u001b[0m   \u001b[0;31m#x_opt_bfgs = BFGS(A,y,lambda_reg)\u001b[0m\u001b[0;34m\u001b[0m\u001b[0;34m\u001b[0m\u001b[0m\n",
            "\u001b[0;32m/tmp/ipykernel_1808529/771787653.py\u001b[0m in \u001b[0;36mfind_minimizer_BFGS_method\u001b[0;34m(start_x, n, l, tol, line_search_type, *args)\u001b[0m\n\u001b[1;32m     31\u001b[0m       \u001b[0mmu_k\u001b[0m \u001b[0;34m=\u001b[0m \u001b[0;36m1\u001b[0m\u001b[0;34m/\u001b[0m\u001b[0mnp\u001b[0m\u001b[0;34m.\u001b[0m\u001b[0mmatmul\u001b[0m\u001b[0;34m(\u001b[0m\u001b[0mnp\u001b[0m\u001b[0;34m.\u001b[0m\u001b[0mtranspose\u001b[0m\u001b[0;34m(\u001b[0m\u001b[0my_k\u001b[0m\u001b[0;34m)\u001b[0m\u001b[0;34m,\u001b[0m\u001b[0ms_k\u001b[0m\u001b[0;34m)\u001b[0m\u001b[0;34m\u001b[0m\u001b[0;34m\u001b[0m\u001b[0m\n\u001b[1;32m     32\u001b[0m \u001b[0;34m\u001b[0m\u001b[0m\n\u001b[0;32m---> 33\u001b[0;31m       \u001b[0mB_k\u001b[0m \u001b[0;34m=\u001b[0m \u001b[0mnp\u001b[0m\u001b[0;34m.\u001b[0m\u001b[0madd\u001b[0m\u001b[0;34m(\u001b[0m\u001b[0mnp\u001b[0m\u001b[0;34m.\u001b[0m\u001b[0mmatmul\u001b[0m\u001b[0;34m(\u001b[0m\u001b[0mnp\u001b[0m\u001b[0;34m.\u001b[0m\u001b[0mmatmul\u001b[0m\u001b[0;34m(\u001b[0m\u001b[0mnp\u001b[0m\u001b[0;34m.\u001b[0m\u001b[0msubtract\u001b[0m\u001b[0;34m(\u001b[0m\u001b[0mI\u001b[0m\u001b[0;34m,\u001b[0m \u001b[0mmu_k\u001b[0m\u001b[0;34m*\u001b[0m\u001b[0mnp\u001b[0m\u001b[0;34m.\u001b[0m\u001b[0mouter\u001b[0m\u001b[0;34m(\u001b[0m \u001b[0ms_k\u001b[0m\u001b[0;34m,\u001b[0m \u001b[0mnp\u001b[0m\u001b[0;34m.\u001b[0m\u001b[0mtranspose\u001b[0m\u001b[0;34m(\u001b[0m\u001b[0my_k\u001b[0m\u001b[0;34m)\u001b[0m\u001b[0;34m)\u001b[0m\u001b[0;34m)\u001b[0m\u001b[0;34m,\u001b[0m\u001b[0mB_k\u001b[0m\u001b[0;34m)\u001b[0m\u001b[0;34m,\u001b[0m \u001b[0mnp\u001b[0m\u001b[0;34m.\u001b[0m\u001b[0msubtract\u001b[0m\u001b[0;34m(\u001b[0m\u001b[0mI\u001b[0m\u001b[0;34m,\u001b[0m \u001b[0mmu_k\u001b[0m\u001b[0;34m*\u001b[0m\u001b[0mnp\u001b[0m\u001b[0;34m.\u001b[0m\u001b[0mouter\u001b[0m\u001b[0;34m(\u001b[0m\u001b[0my_k\u001b[0m\u001b[0;34m,\u001b[0m\u001b[0mnp\u001b[0m\u001b[0;34m.\u001b[0m\u001b[0mtranspose\u001b[0m\u001b[0;34m(\u001b[0m\u001b[0ms_k\u001b[0m\u001b[0;34m)\u001b[0m\u001b[0;34m)\u001b[0m\u001b[0;34m)\u001b[0m\u001b[0;34m)\u001b[0m\u001b[0;34m,\u001b[0m \u001b[0mmu_k\u001b[0m\u001b[0;34m*\u001b[0m\u001b[0mnp\u001b[0m\u001b[0;34m.\u001b[0m\u001b[0mouter\u001b[0m\u001b[0;34m(\u001b[0m \u001b[0ms_k\u001b[0m\u001b[0;34m,\u001b[0m \u001b[0mnp\u001b[0m\u001b[0;34m.\u001b[0m\u001b[0mtranspose\u001b[0m\u001b[0;34m(\u001b[0m\u001b[0ms_k\u001b[0m\u001b[0;34m)\u001b[0m\u001b[0;34m)\u001b[0m\u001b[0;34m)\u001b[0m\u001b[0;34m\u001b[0m\u001b[0;34m\u001b[0m\u001b[0m\n\u001b[0m\u001b[1;32m     34\u001b[0m     \u001b[0mdirection\u001b[0m \u001b[0;34m=\u001b[0m \u001b[0mnp\u001b[0m\u001b[0;34m.\u001b[0m\u001b[0mmatmul\u001b[0m\u001b[0;34m(\u001b[0m\u001b[0mB_k\u001b[0m\u001b[0;34m,\u001b[0m\u001b[0;34m-\u001b[0m\u001b[0mg_x\u001b[0m\u001b[0;34m)\u001b[0m\u001b[0;34m\u001b[0m\u001b[0;34m\u001b[0m\u001b[0m\n\u001b[1;32m     35\u001b[0m     \u001b[0;32mif\u001b[0m \u001b[0mline_search_type\u001b[0m \u001b[0;34m==\u001b[0m \u001b[0mBACKTRACKING_LINE_SEARCH\u001b[0m\u001b[0;34m:\u001b[0m\u001b[0;34m\u001b[0m\u001b[0;34m\u001b[0m\u001b[0m\n",
            "\u001b[0;31mKeyboardInterrupt\u001b[0m: "
          ]
        }
      ],
      "source": [
        "print(\"Using BFGS Method\")\n",
        "my_tol = my_tol= 1e-3\n",
        "alpha = 0.99\n",
        "rho = 0.5\n",
        "gamma = 0.5\n",
        "import numpy as np\n",
        "import timeit\n",
        "np.random.seed(1000) #for repeatability\n",
        "N = 200\n",
        "ds = [1000, 5000, 10000, 20000, 25000, 50000, 100000, 200000, 500000, 1000000]\n",
        "lambda_reg = 0.001\n",
        "eps = np.random.randn(N,1) #random noise\n",
        "#For each value of dimension in the ds array, we will check the behavior of BFGS method\n",
        "for i in range(np.size(ds)):\n",
        "  d=ds[i]\n",
        "  A = np.random.randn(N,d)\n",
        "  my_start_x = np.zeros((d,1))\n",
        "  xorig = np.ones((d,1))\n",
        "  y = np.dot(A,xorig) + eps\n",
        "  #print the total time, ||Ax_opt-y||^2 and the L2 norm difference || x_opt - xorig||^2  for Newton method\n",
        "  start = timeit.default_timer()\n",
        "  #call BFGS method with A,y,lambda and obtain the optimal solution x_opt_bfgs\n",
        "  x_star_bfgs, opt_fval, num_iters= find_minimizer_BFGS_method(my_start_x,d,lambda_reg,my_tol,BACKTRACKING_LINE_SEARCH,0.99, 0.5,0.5)\n",
        "\n",
        "  #x_opt_bfgs = BFGS(A,y,lambda_reg)\n",
        "  bfgstime = timeit.default_timer() - start #time is in seconds\n",
        "  #print the total time, ||Ax_opt_bfgs-y||^2 and the L2 norm difference || x_opt_bfgs -  xorig||^2 for BFGS method\n",
        "  diff = np.subtract(x_star_bfgs, xorig)\n",
        "  print(\"d:\", d)\n",
        "  print(\"Total time:\", bfgstime)\n",
        "  print(\"L2 norm difference ||Ax* - y||_2^2: \", np.linalg.norm(np.subtract(np.matmul(A, x_star_bfgs), y))**2)\n",
        "  print(\"L2 norm difference || x_opt - xorig||: \", np.linalg.norm(diff)**2)"
      ]
    },
    {
      "cell_type": "markdown",
      "metadata": {
        "id": "e2ct04-HGCGI"
      },
      "source": [
        "**till d = 10000 the code took more than 30 minutes to run**"
      ]
    },
    {
      "cell_type": "markdown",
      "metadata": {
        "id": "XaShYoG1Acp3"
      },
      "source": [
        "$\\textbf{Tabulation}$"
      ]
    },
    {
      "cell_type": "code",
      "execution_count": null,
      "metadata": {
        "id": "vjdt01Wp6jTW",
        "outputId": "bd2b5c54-4c6e-42dc-81c3-f0ef3c0168fc"
      },
      "outputs": [
        {
          "data": {
            "text/html": [
              "<div>\n",
              "<style scoped>\n",
              "    .dataframe tbody tr th:only-of-type {\n",
              "        vertical-align: middle;\n",
              "    }\n",
              "\n",
              "    .dataframe tbody tr th {\n",
              "        vertical-align: top;\n",
              "    }\n",
              "\n",
              "    .dataframe thead th {\n",
              "        text-align: right;\n",
              "    }\n",
              "</style>\n",
              "<table border=\"1\" class=\"dataframe\">\n",
              "  <thead>\n",
              "    <tr style=\"text-align: right;\">\n",
              "      <th></th>\n",
              "      <th>Dimention_of_A</th>\n",
              "      <th>Total Time</th>\n",
              "      <th>||Ax^* - y||_2^2</th>\n",
              "      <th>||x^* - x_{orig}||_2^2</th>\n",
              "    </tr>\n",
              "  </thead>\n",
              "  <tbody>\n",
              "    <tr>\n",
              "      <th>0</th>\n",
              "      <td>[200, 1000]</td>\n",
              "      <td>19.197677</td>\n",
              "      <td>2.179299e-07</td>\n",
              "      <td>817.720299</td>\n",
              "    </tr>\n",
              "    <tr>\n",
              "      <th>1</th>\n",
              "      <td>[200, 5000]</td>\n",
              "      <td>1388.179293</td>\n",
              "      <td>4.841071e-08</td>\n",
              "      <td>4774.913360</td>\n",
              "    </tr>\n",
              "    <tr>\n",
              "      <th>2</th>\n",
              "      <td>[200, 10000]</td>\n",
              "      <td>10504.021475</td>\n",
              "      <td>1.805632e-08</td>\n",
              "      <td>9825.861490</td>\n",
              "    </tr>\n",
              "  </tbody>\n",
              "</table>\n",
              "</div>"
            ],
            "text/plain": [
              "  Dimention_of_A     Total Time  ||Ax^* - y||_2^2  ||x^* - x_{orig}||_2^2\n",
              "0     [200, 1000]     19.197677      2.179299e-07              817.720299\n",
              "1     [200, 5000]   1388.179293      4.841071e-08             4774.913360\n",
              "2    [200, 10000]  10504.021475      1.805632e-08             9825.861490"
            ]
          },
          "execution_count": 25,
          "metadata": {},
          "output_type": "execute_result"
        }
      ],
      "source": [
        "import pandas as pd\n",
        "Dimention_of_A=[[200, 1000],[200,5000],[200,10000]]\n",
        "Total_Time = [19.19767696100007, 1388.179293315,10504.021474666]\n",
        "L2_norm_difference1= [2.1792993971933117e-07, 4.8410711664385876e-08,1.805632077533474e-08]\n",
        "L2_norm_difference2= [817.7202987075317, 4774.913359904525,9825.861490430612]\n",
        "data = {'Dimention_of_A ': Dimention_of_A,'Total Time':Total_Time,'||Ax^* - y||_2^2':L2_norm_difference1,'||x^* - x_{orig}||_2^2':L2_norm_difference2}\n",
        "df = pd.DataFrame(data)\n",
        "df"
      ]
    },
    {
      "cell_type": "markdown",
      "metadata": {
        "id": "54T7aIRm_cca"
      },
      "source": [
        "$\\textbf{Report the dimension where failure occurs respectively for Newton and BFGS method.}$"
      ]
    },
    {
      "cell_type": "markdown",
      "metadata": {
        "id": "vw8b5hSB_mrW"
      },
      "source": [
        "The failure occures for newton's method after size of A = (200, 10000) i.e. after d = 10000\n",
        "\n",
        "The failure occures for BFGS method after size of A = (200, 10000) i.e. after  d =10000"
      ]
    },
    {
      "cell_type": "code",
      "execution_count": null,
      "metadata": {
        "id": "e2gd2HVF-bi-"
      },
      "outputs": [],
      "source": []
    }
  ],
  "metadata": {
    "colab": {
      "provenance": []
    },
    "kernelspec": {
      "display_name": "Python 3 (ipykernel)",
      "language": "python",
      "name": "python3"
    },
    "language_info": {
      "codemirror_mode": {
        "name": "ipython",
        "version": 3
      },
      "file_extension": ".py",
      "mimetype": "text/x-python",
      "name": "python",
      "nbconvert_exporter": "python",
      "pygments_lexer": "ipython3",
      "version": "3.9.13"
    }
  },
  "nbformat": 4,
  "nbformat_minor": 0
}